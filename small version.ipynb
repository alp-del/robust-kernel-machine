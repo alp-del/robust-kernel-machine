{
 "cells": [
  {
   "cell_type": "code",
   "execution_count": 39,
   "id": "58490d43",
   "metadata": {},
   "outputs": [],
   "source": [
    "import numpy as np\n",
    "import pandas as pd\n",
    "import matplotlib as plt\n",
    "import EigenPro2.mnist as mnist\n",
    "from sklearn import metrics\n",
    "import math\n",
    "import time"
   ]
  },
  {
   "cell_type": "code",
   "execution_count": 40,
   "id": "82bfa7f0",
   "metadata": {},
   "outputs": [
    {
     "name": "stdout",
     "output_type": "stream",
     "text": [
      "Load MNIST dataset.\n",
      "60000 train samples\n",
      "10000 test samples\n"
     ]
    }
   ],
   "source": [
    "(x_train, y_train), (x_test, y_test) = mnist.load()"
   ]
  },
  {
   "cell_type": "code",
   "execution_count": 41,
   "id": "5f414fa8",
   "metadata": {},
   "outputs": [],
   "source": [
    "Xtemp=[]\n",
    "Ytemp=[]\n",
    "X=[]\n",
    "Y=[]\n",
    "for i in range(60000):\n",
    "    if y_train[i]==2:\n",
    "        temp=x_train[i].flatten()\n",
    "        temp2=-1\n",
    "        Xtemp.append(temp)\n",
    "        Ytemp.append(temp2)\n",
    "    if y_train[i]==5:\n",
    "        temp=x_train[i].flatten()\n",
    "        temp2=1\n",
    "        Xtemp.append(temp)\n",
    "        Ytemp.append(temp2)\n",
    "for i in range(5):\n",
    "    X.append(Xtemp[i])\n",
    "    Y.append(Ytemp[i])\n",
    "        "
   ]
  },
  {
   "cell_type": "code",
   "execution_count": 42,
   "id": "bbdb6e41",
   "metadata": {},
   "outputs": [],
   "source": [
    "Xtest=[]\n",
    "Ytest=[]\n",
    "for i in range(10000):\n",
    "    if y_test[i]==2:\n",
    "        temp=x_test[i].flatten()\n",
    "        temp2=-1\n",
    "        Xtest.append(temp)\n",
    "        Ytest.append(temp2)\n",
    "    if y_test[i]==5:\n",
    "        temp=x_test[i].flatten()\n",
    "        temp2=1\n",
    "        Xtest.append(temp)\n",
    "        Ytest.append(temp2)\n",
    "        "
   ]
  },
  {
   "cell_type": "code",
   "execution_count": 43,
   "id": "51bfcdfb",
   "metadata": {},
   "outputs": [],
   "source": [
    "def K(x,y):\n",
    "    return math.exp(-(np.linalg.norm(x-y))**2/(784))"
   ]
  },
  {
   "cell_type": "code",
   "execution_count": 61,
   "id": "2d8eb8fb",
   "metadata": {},
   "outputs": [
    {
     "name": "stdout",
     "output_type": "stream",
     "text": [
      "[0.852215023405123, 0.8428625983347651, 0.8744416990767535, 0.8533174639203265, 0.8864215430826421]\n"
     ]
    }
   ],
   "source": [
    "a=[]\n",
    "for i in range(5):\n",
    "    a.append(K(Xtest[0],X[i]))\n",
    "print(a)"
   ]
  },
  {
   "cell_type": "code",
   "execution_count": 69,
   "id": "4f2f717b",
   "metadata": {},
   "outputs": [
    {
     "name": "stdout",
     "output_type": "stream",
     "text": [
      "[1.0, 0.8773914819299646, 0.8510481742278658, 0.8887318426644698, 0.8638775176787447]\n",
      "[0.8773914819299646, 1.0, 0.8883275027502059, 0.8998138131180171, 0.8713126968252196]\n",
      "[0.8510481742278658, 0.8883275027502059, 1.0, 0.8838052771320531, 0.8544648413403485]\n",
      "[0.8887318426644698, 0.8998138131180171, 0.8838052771320531, 1.0, 0.8706971815088328]\n",
      "[0.8638775176787447, 0.8713126968252196, 0.8544648413403485, 0.8706971815088328, 1.0]\n",
      "[[1.         0.87739148 0.85104817 0.88873184 0.86387752]\n",
      " [0.87739148 1.         0.8883275  0.89981381 0.8713127 ]\n",
      " [0.85104817 0.8883275  1.         0.88380528 0.85446484]\n",
      " [0.88873184 0.89981381 0.88380528 1.         0.87069718]\n",
      " [0.86387752 0.8713127  0.85446484 0.87069718 1.        ]]\n",
      "[[ 6.16387197 -1.5108654  -0.60986953 -2.24551301 -1.53212029]\n",
      " [-1.5108654   7.61909414 -2.23605439 -2.30095417 -1.41934664]\n",
      " [-0.60986953 -2.23605439  6.13467756 -1.89696355 -1.11503031]\n",
      " [-2.24551301 -2.30095417 -1.89696355  7.84126024 -1.26177574]\n",
      " [-1.53212029 -1.41934664 -1.11503031 -1.26177574  5.61163781]]\n"
     ]
    }
   ],
   "source": [
    "b=[]\n",
    "for i in range(5):\n",
    "    row=[]\n",
    "    for j in range(5):\n",
    "        row.append(K(X[i],X[j]))\n",
    "    b.append(row)\n",
    "    print(row)\n",
    "m=np.matrix(b)\n",
    "print(m)\n",
    "m_inv=np.linalg.inv(m)\n",
    "print(m_inv)\n"
   ]
  },
  {
   "cell_type": "code",
   "execution_count": 46,
   "id": "79015d34",
   "metadata": {},
   "outputs": [
    {
     "name": "stdout",
     "output_type": "stream",
     "text": [
      "[ 1 -1  1 -1 -1]\n"
     ]
    }
   ],
   "source": [
    "y=np.array(Y)\n",
    "print(y)"
   ]
  },
  {
   "cell_type": "code",
   "execution_count": 63,
   "id": "e92b7900",
   "metadata": {},
   "outputs": [
    {
     "name": "stdout",
     "output_type": "stream",
     "text": [
      "[[ 0.17195711 -0.04261573  0.35289226  0.06078694  0.42054224]]\n"
     ]
    }
   ],
   "source": [
    "temp=a@m_inv\n",
    "print(temp)"
   ]
  },
  {
   "cell_type": "code",
   "execution_count": 64,
   "id": "c2bfe280",
   "metadata": {},
   "outputs": [
    {
     "name": "stdout",
     "output_type": "stream",
     "text": [
      "[[0.08613592]]\n"
     ]
    }
   ],
   "source": [
    "temp2=np.matmul(temp,y)\n",
    "print(temp2)"
   ]
  },
  {
   "cell_type": "code",
   "execution_count": 65,
   "id": "a421ffd6",
   "metadata": {},
   "outputs": [
    {
     "name": "stdout",
     "output_type": "stream",
     "text": [
      "-1\n"
     ]
    }
   ],
   "source": [
    "print(Ytest[0])"
   ]
  },
  {
   "cell_type": "code",
   "execution_count": null,
   "id": "a47a778e",
   "metadata": {},
   "outputs": [],
   "source": []
  }
 ],
 "metadata": {
  "kernelspec": {
   "display_name": "Python 3 (ipykernel)",
   "language": "python",
   "name": "python3"
  },
  "language_info": {
   "codemirror_mode": {
    "name": "ipython",
    "version": 3
   },
   "file_extension": ".py",
   "mimetype": "text/x-python",
   "name": "python",
   "nbconvert_exporter": "python",
   "pygments_lexer": "ipython3",
   "version": "3.9.12"
  }
 },
 "nbformat": 4,
 "nbformat_minor": 5
}
