{
 "cells": [
  {
   "cell_type": "code",
   "execution_count": 68,
   "id": "5c0184f9",
   "metadata": {},
   "outputs": [],
   "source": [
    "import numpy as np\n",
    "import math"
   ]
  },
  {
   "cell_type": "code",
   "execution_count": 69,
   "id": "b95fd4b9",
   "metadata": {},
   "outputs": [],
   "source": [
    "d=200\n",
    "kappa=[math.exp(-1),math.exp(-0.75),math.exp(-0.5),math.exp(-0.25),1,math.exp(0.25),math.exp(0.5),math.exp(0.75),math.exp(1)]\n",
    "N=[4000,2000,1000,240]\n",
    "sigma1=0.5\n",
    "m=1000"
   ]
  },
  {
   "cell_type": "code",
   "execution_count": 70,
   "id": "e52b86ae",
   "metadata": {},
   "outputs": [],
   "source": [
    "def K(x,y):\n",
    "    return math.exp((np.linalg.norm(x-y))**2/d)"
   ]
  },
  {
   "cell_type": "markdown",
   "id": "0e92facf",
   "metadata": {},
   "source": [
    "we run the code once for n=240 and kappa=1"
   ]
  },
  {
   "cell_type": "code",
   "execution_count": 71,
   "id": "288f86ae",
   "metadata": {},
   "outputs": [],
   "source": [
    "n=2000\n",
    "k=1\n",
    "l=np.zeros(d)\n",
    "for i in range(d):\n",
    "    l[i]=(1-((i-1)/d)**k)**(1/k)\n",
    "sigma=np.diag(l)\n",
    "mean=np.zeros(d)\n",
    "\n",
    "\n",
    "X=np.random.multivariate_normal(mean,sigma,size=n)\n",
    "X_train=np.array(X)\n",
    "I=np.identity(d)\n",
    "theta=np.random.multivariate_normal(mean,I,size=100)  \n",
    "def f_star(x):\n",
    "    k1=[K(x,y) for y in theta]\n",
    "    return sum(k1)\n",
    "y=[f_star(x) for x in X]\n",
    "y=np.array(y)\n",
    "epsilon=np.random.normal(0,sigma1**2,size=n)\n",
    "Y_train=y+epsilon\n"
   ]
  },
  {
   "cell_type": "markdown",
   "id": "65d3c332",
   "metadata": {},
   "source": [
    "X=np.random.multivariate_normal(mean,sigma,m)\n",
    "Xtest=np.array(X)\n",
    "y=[f_star(x) for x in X]\n",
    "y=np.array(y)\n",
    "epsilon=np.random.normal(0,sigma1**2,size=m)\n",
    "epsilon=np.array(epsilon)\n",
    "Ytest=y+epsilon"
   ]
  },
  {
   "cell_type": "code",
   "execution_count": 72,
   "id": "7f39a4a0",
   "metadata": {},
   "outputs": [],
   "source": [
    "Xtest=[X_train[i] for i in range(m)]\n",
    "Ytest=[Y_train[i] for i in range(m)]"
   ]
  },
  {
   "cell_type": "code",
   "execution_count": 73,
   "id": "4231cfb2",
   "metadata": {},
   "outputs": [],
   "source": [
    "b=np.zeros((m,n))\n",
    "for i in range(m):\n",
    "    for j in range(n):\n",
    "        b[i][j]=K(Xtest[i],X_train[j])\n",
    "b=np.matrix(b) \n",
    "I=np.identity(n)\n",
    "k=np.zeros((n,n))\n",
    "for i in range(n):\n",
    "    for j in range(n):\n",
    "        k[i][j]=K(X_train[i],X_train[j])\n",
    "            #k=k+l*I\n",
    "k=np.matrix(k)\n",
    "k_inv=np.linalg.inv(k)\n",
    "y=Y_train\n",
    "temp1=np.matmul(b,k_inv)\n",
    "temp2=np.matmul(temp1,y)\n"
   ]
  },
  {
   "cell_type": "code",
   "execution_count": 74,
   "id": "b69e4b3c",
   "metadata": {},
   "outputs": [],
   "source": [
    "y_bar=np.average(Ytest)\n",
    "ybar=np.ones(m)*y_bar\n",
    "num=0\n",
    "den=0\n",
    "ypred=temp2\n",
    "num = np.linalg.norm(ypred - Ytest)**2\n",
    "den = np.linalg.norm(ybar-Ytest)**2\n",
    "error=num/den"
   ]
  },
  {
   "cell_type": "code",
   "execution_count": 75,
   "id": "d3bda182",
   "metadata": {},
   "outputs": [
    {
     "name": "stdout",
     "output_type": "stream",
     "text": [
      "2.696846877465265e-23\n"
     ]
    }
   ],
   "source": [
    "print(error)"
   ]
  },
  {
   "cell_type": "code",
   "execution_count": null,
   "id": "88b0f89c",
   "metadata": {},
   "outputs": [],
   "source": []
  },
  {
   "cell_type": "code",
   "execution_count": 76,
   "id": "b1fbae0e",
   "metadata": {},
   "outputs": [
    {
     "name": "stdout",
     "output_type": "stream",
     "text": [
      "2.696846877465265e-23\n"
     ]
    }
   ],
   "source": []
  },
  {
   "cell_type": "code",
   "execution_count": 77,
   "id": "ef5e5d78",
   "metadata": {},
   "outputs": [
    {
     "name": "stdout",
     "output_type": "stream",
     "text": [
      "1.892475195933076e-17\n"
     ]
    }
   ],
   "source": []
  },
  {
   "cell_type": "code",
   "execution_count": 78,
   "id": "e46d6f6f",
   "metadata": {},
   "outputs": [
    {
     "name": "stdout",
     "output_type": "stream",
     "text": [
      "701736.2430720545\n"
     ]
    }
   ],
   "source": []
  },
  {
   "cell_type": "code",
   "execution_count": 79,
   "id": "4da6c15f",
   "metadata": {},
   "outputs": [
    {
     "name": "stdout",
     "output_type": "stream",
     "text": [
      "(2000, 200)\n"
     ]
    }
   ],
   "source": []
  },
  {
   "cell_type": "code",
   "execution_count": null,
   "id": "f7c57078",
   "metadata": {},
   "outputs": [],
   "source": []
  }
 ],
 "metadata": {
  "kernelspec": {
   "display_name": "Python 3 (ipykernel)",
   "language": "python",
   "name": "python3"
  },
  "language_info": {
   "codemirror_mode": {
    "name": "ipython",
    "version": 3
   },
   "file_extension": ".py",
   "mimetype": "text/x-python",
   "name": "python",
   "nbconvert_exporter": "python",
   "pygments_lexer": "ipython3",
   "version": "3.9.12"
  }
 },
 "nbformat": 4,
 "nbformat_minor": 5
}
