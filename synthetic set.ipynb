{
 "cells": [
  {
   "cell_type": "markdown",
   "id": "80ab2d16",
   "metadata": {},
   "source": [
    "We want to apply the kernel method to the sythetic set. We generate data in this way $x_i\\sim N(0,\\Sigma)$ , $\\Sigma$ is a diagonal matrix, where the diagonal is given by $\\lambda_i=(1-((i-1)/d)^{\\kappa})^{1/\\kappa}$ for $1\\le i\\le d$. The kernel we have here is $K(x,y)=\\exp(\\vert\\vert x-y\\vert\\vert^2/d)$. The label $y=f_{\\star}(x_i)+\\epsilon_i$"
   ]
  },
  {
   "cell_type": "code",
   "execution_count": 2,
   "id": "546eff8a",
   "metadata": {},
   "outputs": [],
   "source": [
    "import numpy as np\n",
    "import math"
   ]
  },
  {
   "cell_type": "code",
   "execution_count": 10,
   "id": "82bca896",
   "metadata": {},
   "outputs": [
    {
     "name": "stdout",
     "output_type": "stream",
     "text": [
      "[1, 4, 9]\n"
     ]
    }
   ],
   "source": [
    "X=[1,2,3]\n",
    "def f(x):\n",
    "    return x**2\n",
    "y=[f(x) for x in X]\n",
    "print(y)"
   ]
  },
  {
   "cell_type": "code",
   "execution_count": null,
   "id": "82791a47",
   "metadata": {},
   "outputs": [],
   "source": [
    "d=200\n",
    "kappa=[e**(-1),e**(-0.75),e**(-0.5),e**(-0.25),1,e**0.25,e**0.5,e**0.75,e]\n",
    "N=[4000,2000,1000,240]"
   ]
  },
  {
   "cell_type": "code",
   "execution_count": null,
   "id": "8abed304",
   "metadata": {},
   "outputs": [],
   "source": [
    "for k in kappa:\n",
    "    lambda=np.zeros(d)\n",
    "    for i in range(d):\n",
    "        lambda[i]=(1-((i-1)/d)**k)**(1/k)\n",
    "    sigma=np.diag(lambda)\n",
    "    mean=np.zeros(d)\n",
    "    X=[np.random.multivariate_normal(mean,sigma) for i in range(n)]\n",
    "    X_train=np.array(X)"
   ]
  },
  {
   "cell_type": "code",
   "execution_count": null,
   "id": "2e1592df",
   "metadata": {},
   "outputs": [],
   "source": [
    "def K(x,y):\n",
    "    return math.exp((np.linalg.norm(x-y))**2/d)"
   ]
  },
  {
   "cell_type": "markdown",
   "id": "91c4ce67",
   "metadata": {},
   "source": [
    "define f_{star}"
   ]
  },
  {
   "cell_type": "code",
   "execution_count": null,
   "id": "25e1c728",
   "metadata": {},
   "outputs": [],
   "source": [
    "I=np.identity(d)\n",
    "theta=[np.random.multivariate_normal(mean,I) for i in range(d)]\n",
    "def f_star(x):\n",
    "    k1=[K(x,y) for y in theta]\n",
    "    return sum(k1)\n",
    "y=[f_star(x) for x in X]\n",
    "y=np.array(y)\n",
    "epsilon=[np.random.normal(0,0.5**2)]\n",
    "epsilon=np.array(epsilon)\n",
    "Y_train=y+epsilon\n",
    "\n"
   ]
  },
  {
   "cell_type": "markdown",
   "id": "880a20ea",
   "metadata": {},
   "source": [
    "construct test set"
   ]
  },
  {
   "cell_type": "code",
   "execution_count": null,
   "id": "e8f7a212",
   "metadata": {},
   "outputs": [],
   "source": [
    "X=[np.random.multivariate_normal(mean,sigma) for i in range(n)]\n",
    "Xtest=np.array(X)\n",
    "y=[f_star(x) for x in X]\n",
    "y=np.array(y)\n",
    "epsilon=[np.random.normal(0,0.5**2)]\n",
    "epsilon=np.array(epsilon)\n",
    "Ytest=y+epsilon\n",
    "\n",
    "\n"
   ]
  },
  {
   "cell_type": "code",
   "execution_count": null,
   "id": "c85c82f8",
   "metadata": {},
   "outputs": [],
   "source": [
    "b=[]\n",
    "for a in Xtest:\n",
    "    row=[]\n",
    "    for y in X_train:\n",
    "        row.append(K(a,y))\n",
    "    b.append(row)\n",
    "b=np.matrix(b) \n",
    "I=np.identity(n)\n",
    "k=[]\n",
    "for i in range(n):\n",
    "    row=[]\n",
    "    for j in range(n):\n",
    "            row.append(K(train[i],train[j]))\n",
    "    k.append(row)\n",
    "k=k+l*I\n",
    "k=np.matrix(k)\n",
    "k_inv=np.linalg.inv(k)\n",
    "y=ytrain\n",
    "temp1=np.matmul(b,k_inv)\n",
    "temp2=np.matmul(temp1,y)\n"
   ]
  }
 ],
 "metadata": {
  "kernelspec": {
   "display_name": "Python 3.9 (tensorflow)",
   "language": "python",
   "name": "tensorflow"
  },
  "language_info": {
   "codemirror_mode": {
    "name": "ipython",
    "version": 3
   },
   "file_extension": ".py",
   "mimetype": "text/x-python",
   "name": "python",
   "nbconvert_exporter": "python",
   "pygments_lexer": "ipython3",
   "version": "3.9.13"
  }
 },
 "nbformat": 4,
 "nbformat_minor": 5
}
