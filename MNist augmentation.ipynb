{
 "cells": [
  {
   "cell_type": "code",
   "execution_count": 37,
   "id": "00abb133",
   "metadata": {},
   "outputs": [
    {
     "name": "stdout",
     "output_type": "stream",
     "text": [
      "Load MNIST dataset.\n",
      "60000 train samples\n",
      "10000 test samples\n"
     ]
    }
   ],
   "source": [
    "import numpy as np\n",
    "import EigenPro2.mnist as mnist\n",
    "import math\n",
    "import matplotlib.pyplot as plt\n",
    "import random\n",
    "import time\n",
    "(train_x, train_y), (test_x, test_y) = mnist.load()\n",
    "aug=40\n",
    "delta=0.01 #noise level\n",
    "\n",
    "\n",
    "def K(x,y):\n",
    "    return math.exp(-(np.linalg.norm(x-y))**2/(10))"
   ]
  },
  {
   "cell_type": "code",
   "execution_count": 38,
   "id": "87b7df2d",
   "metadata": {},
   "outputs": [
    {
     "name": "stdout",
     "output_type": "stream",
     "text": [
      "Adding augmentation= 0.3705451488494873\n"
     ]
    }
   ],
   "source": [
    "y=8\n",
    "x=4\n",
    "time1=time.time()\n",
    "A = [train_x[train_y==i,:] for i in range(9)]\n",
    "\n",
    "temp = np.concatenate((A[x], A[y]), axis=0)\n",
    "rdn_indexes=np.random.randint(len(temp),size=300)\n",
    "\n",
    "train1=temp[rdn_indexes,:] #no augmentation training set\n",
    "y1=np.ones(len(A[x]))\n",
    "y2=np.ones(len(A[y]))*(-1)\n",
    "\n",
    "ytemp=np.concatenate((y1,y2))\n",
    "ytrain1=ytemp[rdn_indexes]\n",
    "    \n",
    "    \n",
    "\n",
    "    \n",
    "P=np.random.normal(0,1,size=(aug,len(train1),784))\n",
    "temp2=train1+delta*P\n",
    "temp2=np.array([temp2]).reshape(aug*len(train1), 784)\n",
    "    \n",
    "train = temp2 #augmentation training set\n",
    " \n",
    "Ytrain=np.tile(ytrain1,aug)\n",
    "\n",
    "  \n",
    "    \n",
    "B= [test_x[test_y==i,:] for i in range(9)]\n",
    "\n",
    "test = np.concatenate((B[x],B[y]),axis=0)\n",
    "\n",
    "m=len(test)\n",
    "y1=np.ones(len(B[x]))\n",
    "y2=np.ones(len(B[y]))*(-1)\n",
    "Ytest=np.concatenate((y1,y2))\n",
    "time2=time.time()\n",
    "print('Adding augmentation=',time2-time1)"
   ]
  },
  {
   "cell_type": "code",
   "execution_count": 39,
   "id": "b09a6db7",
   "metadata": {},
   "outputs": [],
   "source": [
    "def Ker(X,Y):\n",
    "    x=np.sum(np.square(X),axis=1)\n",
    "    y=np.sum(np.square(Y),axis=1)\n",
    "    x=x.reshape(len(x),1)\n",
    "    y=y.reshape(len(y),1)\n",
    "    temp1=x.repeat(len(y),axis=1)\n",
    "    temp2=y.repeat(len(x),axis=1)\n",
    "    squ=temp1+np.transpose(temp2)-2*np.matmul(X,np.transpose(Y))\n",
    "    mat=np.exp(-squ/10)\n",
    "    return mat"
   ]
  },
  {
   "cell_type": "code",
   "execution_count": null,
   "id": "80322cb6",
   "metadata": {},
   "outputs": [],
   "source": []
  },
  {
   "cell_type": "code",
   "execution_count": 40,
   "id": "f83d6272",
   "metadata": {},
   "outputs": [],
   "source": [
    "k1=Ker(train,train)\n",
    "b=Ker(test,train)\n"
   ]
  },
  {
   "cell_type": "code",
   "execution_count": 41,
   "id": "78eef751",
   "metadata": {},
   "outputs": [
    {
     "name": "stdout",
     "output_type": "stream",
     "text": [
      "0.2880039787527178\n"
     ]
    }
   ],
   "source": [
    "print(np.linalg.norm(train1[200]-train[200]))"
   ]
  },
  {
   "cell_type": "code",
   "execution_count": null,
   "id": "ae79aa0a",
   "metadata": {},
   "outputs": [],
   "source": [
    "\n"
   ]
  },
  {
   "cell_type": "code",
   "execution_count": null,
   "id": "9b13b962",
   "metadata": {},
   "outputs": [],
   "source": []
  },
  {
   "cell_type": "code",
   "execution_count": null,
   "id": "8b63e1ea",
   "metadata": {},
   "outputs": [],
   "source": []
  },
  {
   "cell_type": "code",
   "execution_count": null,
   "id": "efdcf792",
   "metadata": {},
   "outputs": [],
   "source": []
  },
  {
   "cell_type": "code",
   "execution_count": 42,
   "id": "1e2ab008",
   "metadata": {},
   "outputs": [
    {
     "name": "stdout",
     "output_type": "stream",
     "text": [
      "[8.31774612e+01 7.21666411e+01 5.76555051e+01 ... 1.44620403e-02\n",
      " 1.44634379e-02 1.44617983e-02]\n",
      "[133.9786829  128.05806005 125.05116197 ...  60.19566406  60.08751673\n",
      "  60.00439702]\n",
      "misclassification= [95, 221, 744, 1010, 1025, 1056, 1077, 1088, 1114, 1153, 1155, 1177, 1384, 1417, 1425, 1466, 1487, 1498, 1624, 1631, 1795, 1801, 1805]\n",
      "23\n",
      "[8.31774612e+01 7.21666411e+01 5.76555051e+01 ... 1.45673648e-02\n",
      " 1.45662223e-02 1.44634389e-02]\n",
      "[133.97866495 128.05804365 125.05114634 ...  60.19566044  60.08751312\n",
      "  60.00439342]\n",
      "misclassification= [95, 221, 744, 1010, 1025, 1056, 1077, 1088, 1114, 1153, 1155, 1177, 1384, 1417, 1425, 1466, 1487, 1498, 1624, 1631, 1795, 1801, 1805]\n",
      "23\n",
      "[8.31774612e+01 7.21666411e+01 5.76555051e+01 ... 1.44645063e-02\n",
      " 1.44636930e-02 1.44634479e-02]\n",
      "[133.97850339 128.05789606 125.0510056  ...  60.19562783  60.08748063\n",
      "  60.00436102]\n",
      "misclassification= [95, 221, 744, 1010, 1025, 1056, 1077, 1088, 1114, 1153, 1155, 1177, 1384, 1417, 1425, 1466, 1487, 1498, 1624, 1631, 1795, 1801, 1805]\n",
      "23\n",
      "[8.31774712e+01 7.21666511e+01 5.76555151e+01 ... 1.45758628e-02\n",
      " 1.45762213e-02 1.44744963e-02]\n",
      "[133.7994202  127.89428111 124.89497935 ...  60.21477666  59.96441284\n",
      "  59.96841334]\n",
      "misclassification= [95, 221, 744, 1010, 1025, 1056, 1077, 1088, 1114, 1153, 1155, 1177, 1384, 1417, 1425, 1466, 1487, 1498, 1624, 1631, 1795, 1801, 1805]\n",
      "23\n",
      "[8.31775612e+01 7.21667411e+01 5.76556051e+01 ... 1.45621466e-02\n",
      " 1.46779191e-02 1.46662213e-02]\n",
      "[132.20738576 126.43890792 123.50669639 ...  59.83548042  59.72862227\n",
      "  59.64649185]\n",
      "misclassification= [95, 221, 744, 1010, 1025, 1056, 1077, 1088, 1114, 1153, 1155, 1177, 1384, 1417, 1425, 1466, 1487, 1498, 1624, 1631, 1795, 1801, 1805]\n",
      "23\n",
      "[8.31784612e+01 7.21676411e+01 5.76565051e+01 ... 1.55673638e-02\n",
      " 1.55662213e-02 1.54644963e-02]\n",
      "[118.14920767 113.52080587 111.15153355 ...  57.48942374  57.2981655\n",
      "  57.29541104]\n",
      "misclassification= [95, 221, 744, 1010, 1025, 1056, 1077, 1088, 1114, 1153, 1155, 1177, 1384, 1417, 1425, 1466, 1487, 1498, 1624, 1631, 1795, 1801, 1805]\n",
      "23\n",
      "[8.31874612e+01 7.21766411e+01 5.76655051e+01 ... 2.44597675e-02\n",
      " 2.44626834e-02 2.44621466e-02]\n",
      "[3.99358145e-02 1.20210424e-02 1.38548980e-02 ... 3.85058098e+01\n",
      " 3.85040866e+01 3.85036782e+01]\n",
      "misclassification= [95, 221, 744, 1010, 1025, 1056, 1077, 1088, 1114, 1153, 1155, 1177, 1384, 1417, 1425, 1466, 1487, 1498, 1624, 1631, 1795, 1801, 1805]\n",
      "23\n",
      "[83.27746116 72.26664114 57.75550508 ...  0.11456622  0.1144645\n",
      "  0.11446034]\n",
      "[0.03979279 0.01200805 0.01383764 ... 8.67209112 8.67225176 8.67226089]\n",
      "misclassification= [95, 221, 744, 1010, 1025, 1056, 1077, 1088, 1114, 1153, 1155, 1177, 1384, 1417, 1425, 1466, 1487, 1498, 1624, 1631, 1795, 1801, 1805]\n",
      "23\n",
      "[84.17746116 73.16664114 58.65550508 ...  1.01446034  1.01446053\n",
      "  1.0144645 ]\n",
      "[0.01187966 0.03841694 0.01366743 ... 0.98519903 0.98519854 0.98519861]\n",
      "misclassification= [95, 221, 744, 1010, 1025, 1056, 1077, 1088, 1114, 1153, 1155, 1177, 1384, 1417, 1425, 1466, 1487, 1498, 1624, 1631, 1795, 1801, 1805]\n",
      "23\n"
     ]
    }
   ],
   "source": [
    "z=[0,10**(-9),10**(-8), 10**(-5),10**(-4),10**(-3),10**(-2),10**(-1),10**(0)]\n",
    "for R in z:\n",
    "\n",
    "    k2=np.matrix(k1)+R*I2\n",
    "    w1,v1=np.linalg.eig(k2)\n",
    "    print(w1)\n",
    "\n",
    "    k_inv=np.linalg.inv(k2)\n",
    "    w,v=np.linalg.eig(k_inv)\n",
    "    print(w)\n",
    "\n",
    "    Y=Ytrain.reshape(len(Ytrain),1)\n",
    "    temp1=np.matmul(b,k_inv)\n",
    "    temp2=np.matmul(temp1,Y)\n",
    "\n",
    "    y_bar=np.average(Ytest)\n",
    "\n",
    "    ybar=np.multiply(np.ones(m),y_bar)\n",
    "    num=0\n",
    "    den=0\n",
    "    y_pred1=temp2\n",
    "    y_pred2=np.ravel(y_pred1)\n",
    "    te = np.where(y_pred2<0, -np.ones_like(y_pred2), np.ones_like(y_pred2))\n",
    "    mis=[]\n",
    "    for i in range(len(Ytest)):\n",
    "        if np.sign(temp2[i])!=np.sign(Ytest[i]):\n",
    "            mis.append(i)\n",
    "        \n",
    "    num = np.linalg.norm(te - Ytest)**2\n",
    "    den = np.linalg.norm(ybar-Ytest)**2\n",
    "    errors=(num/den)\n",
    "    print('misclassification=',mis)\n",
    "    print(len(mis))"
   ]
  },
  {
   "cell_type": "code",
   "execution_count": 43,
   "id": "ceb4f586",
   "metadata": {},
   "outputs": [
    {
     "name": "stdout",
     "output_type": "stream",
     "text": [
      "[133.9786829  128.05806005 125.05116197 ...  60.19566406  60.08751673\n",
      "  60.00439702]\n",
      "misclassification= [95, 221, 744, 1010, 1025, 1056, 1077, 1088, 1114, 1153, 1155, 1177, 1384, 1417, 1425, 1466, 1487, 1498, 1624, 1631, 1795, 1801, 1805]\n",
      "23\n",
      "22.999999999999996\n",
      "[118.14920767 113.52080587 111.15153355 ...  57.48942374  57.2981655\n",
      "  57.29541104]\n",
      "misclassification= [95, 221, 744, 1010, 1025, 1056, 1077, 1088, 1114, 1153, 1155, 1177, 1384, 1417, 1425, 1466, 1487, 1498, 1624, 1631, 1795, 1801, 1805]\n",
      "23\n",
      "22.999999999999996\n",
      "[3.99358145e-02 1.20210424e-02 1.38548980e-02 ... 3.85058098e+01\n",
      " 3.85040866e+01 3.85036782e+01]\n",
      "misclassification= [95, 221, 744, 1010, 1025, 1056, 1077, 1088, 1114, 1153, 1155, 1177, 1384, 1417, 1425, 1466, 1487, 1498, 1624, 1631, 1795, 1801, 1805]\n",
      "23\n",
      "22.999999999999996\n",
      "[0.01187966 0.03841694 0.01366743 ... 0.98519903 0.98519854 0.98519861]\n",
      "misclassification= [95, 221, 744, 1010, 1025, 1056, 1077, 1088, 1114, 1153, 1155, 1177, 1384, 1417, 1425, 1466, 1487, 1498, 1624, 1631, 1795, 1801, 1805]\n",
      "23\n",
      "22.999999999999996\n",
      "[0.01073221 0.01217039 0.01478076 ... 0.09985224 0.09985224 0.09985224]\n",
      "misclassification= [95, 221, 1010, 1025, 1056, 1077, 1088, 1114, 1153, 1155, 1177, 1384, 1417, 1425, 1466, 1487, 1498, 1530, 1624, 1631, 1795, 1801, 1805]\n",
      "23\n",
      "22.999999999999996\n"
     ]
    }
   ],
   "source": [
    "z=[0,0.001,0.01,1,10]\n",
    "for R in z:\n",
    "\n",
    "    k2=np.matrix(k1)+R*I2\n",
    "    w1,v1=np.linalg.eig(k2)\n",
    "\n",
    "\n",
    "    k_inv=np.linalg.inv(k2)\n",
    "    w,v=np.linalg.eig(k_inv)\n",
    "    print(w)\n",
    "\n",
    "    Y=Ytrain.reshape(len(Ytrain),1)\n",
    "    temp1=np.matmul(b,k_inv)\n",
    "    temp2=np.matmul(temp1,Y)\n",
    "\n",
    "    y_pred1=temp2\n",
    "    y_pred2=np.ravel(y_pred1)\n",
    "    te = np.where(y_pred2<0, -np.ones_like(y_pred2), np.ones_like(y_pred2))\n",
    "    num = np.linalg.norm(te - Ytest)**2\n",
    "    mis=[]\n",
    "    for i in range(len(Ytest)):\n",
    "        if np.sign(temp2[i])!=np.sign(Ytest[i]):\n",
    "            mis.append(i)\n",
    "        \n",
    "\n",
    "    print('misclassification=',mis)\n",
    "    print(len(mis))\n",
    "    print(num/4)"
   ]
  },
  {
   "cell_type": "code",
   "execution_count": 44,
   "id": "b73b6830",
   "metadata": {},
   "outputs": [],
   "source": [
    "N2=len(train1)\n",
    "b_1=np.zeros((m,N2))\n",
    "for i in range(m):\n",
    "    for j in range(N2):\n",
    "        b_1[i][j]=K(test[i],train1[j])\n",
    "b_1=np.matrix(b_1)\n",
    "\n",
    "\n",
    "I_2=np.identity(N2)\n",
    "k_1=np.zeros((N2,N2))\n",
    "for i in range(N2):\n",
    "    for j in range(N2):\n",
    "        k_1[i][j]=K(train1[i],train1[j])"
   ]
  },
  {
   "cell_type": "code",
   "execution_count": 45,
   "id": "ef746ac8",
   "metadata": {},
   "outputs": [
    {
     "name": "stdout",
     "output_type": "stream",
     "text": [
      "misclassification= [95, 221, 744, 1010, 1025, 1056, 1077, 1088, 1114, 1153, 1155, 1177, 1384, 1417, 1425, 1466, 1487, 1498, 1624, 1631, 1795, 1801, 1805]\n",
      "23\n",
      "misclassification= [95, 221, 744, 1010, 1025, 1056, 1077, 1088, 1114, 1153, 1155, 1177, 1384, 1417, 1425, 1466, 1487, 1498, 1624, 1631, 1795, 1801, 1805]\n",
      "23\n",
      "misclassification= [95, 221, 744, 1010, 1025, 1056, 1077, 1088, 1114, 1153, 1155, 1177, 1384, 1417, 1425, 1466, 1487, 1498, 1624, 1631, 1795, 1801, 1805]\n",
      "23\n",
      "misclassification= [95, 221, 744, 1010, 1025, 1056, 1077, 1088, 1114, 1153, 1155, 1177, 1384, 1417, 1425, 1466, 1487, 1498, 1624, 1631, 1795, 1801, 1805]\n",
      "23\n",
      "misclassification= [95, 221, 1010, 1025, 1056, 1077, 1088, 1114, 1153, 1155, 1177, 1384, 1417, 1425, 1466, 1487, 1498, 1624, 1631, 1795, 1801, 1805]\n",
      "22\n",
      "misclassification= [95, 221, 1010, 1025, 1056, 1077, 1088, 1114, 1153, 1155, 1177, 1321, 1384, 1417, 1425, 1466, 1487, 1498, 1530, 1624, 1631, 1678, 1795, 1801, 1805, 1943]\n",
      "26\n",
      "misclassification= [221, 1010, 1025, 1056, 1077, 1088, 1114, 1153, 1155, 1167, 1177, 1321, 1384, 1417, 1425, 1461, 1466, 1487, 1498, 1530, 1624, 1631, 1678, 1795, 1801, 1805, 1943]\n",
      "27\n",
      "misclassification= [221, 1010, 1025, 1056, 1077, 1088, 1114, 1153, 1155, 1167, 1177, 1321, 1384, 1417, 1425, 1461, 1466, 1487, 1493, 1498, 1530, 1624, 1631, 1678, 1795, 1801, 1805, 1943]\n",
      "28\n"
     ]
    }
   ],
   "source": [
    "z=[10**(-8), 10**(-5),10**(-3),10**(-2),10**(-1),10**(0),10,20]\n",
    "for R in z:\n",
    "\n",
    "    k_2=np.matrix(k_1)+R*I_2\n",
    "    w1,v1=np.linalg.eig(k_2)\n",
    "\n",
    "\n",
    "    k_inv2=np.linalg.inv(k_2)\n",
    "    w,v=np.linalg.eig(k_inv2)\n",
    "\n",
    "\n",
    "    Y=ytrain1.reshape(len(ytrain1),1)\n",
    "    temp1=np.matmul(b_1,k_inv2)\n",
    "    temp2=np.matmul(temp1,Y)\n",
    "\n",
    "    y_bar=np.average(Ytest)\n",
    "\n",
    "    ybar=np.multiply(np.ones(m),y_bar)\n",
    "    num=0\n",
    "    den=0\n",
    "    y_pred1=temp2\n",
    "    y_pred2=np.ravel(y_pred1)\n",
    "    te = np.where(y_pred2<0, -np.ones_like(y_pred2), np.ones_like(y_pred2))\n",
    "    mis=[]\n",
    "    for i in range(len(Ytest)):\n",
    "        if np.sign(temp2[i])!=np.sign(Ytest[i]):\n",
    "            mis.append(i)\n",
    "        \n",
    "    num = np.linalg.norm(te - Ytest)**2\n",
    "    den = np.linalg.norm(ybar-Ytest)**2\n",
    "    errors=(num/den)\n",
    "    print('misclassification=',mis)\n",
    "    print(len(mis))"
   ]
  },
  {
   "cell_type": "code",
   "execution_count": null,
   "id": "7bff1c4a",
   "metadata": {},
   "outputs": [],
   "source": []
  }
 ],
 "metadata": {
  "kernelspec": {
   "display_name": "Python 3 (ipykernel)",
   "language": "python",
   "name": "python3"
  },
  "language_info": {
   "codemirror_mode": {
    "name": "ipython",
    "version": 3
   },
   "file_extension": ".py",
   "mimetype": "text/x-python",
   "name": "python",
   "nbconvert_exporter": "python",
   "pygments_lexer": "ipython3",
   "version": "3.9.15"
  }
 },
 "nbformat": 4,
 "nbformat_minor": 5
}
