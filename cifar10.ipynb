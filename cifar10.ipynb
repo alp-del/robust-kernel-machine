{
 "cells": [
  {
   "cell_type": "code",
   "execution_count": 494,
   "id": "40c62476",
   "metadata": {},
   "outputs": [],
   "source": [
    "import os\n",
    "import pickle\n",
    "import numpy as np\n",
    "import math\n",
    "import matplotlib.pyplot as plt\n",
    "import math\n",
    "import pandas as pd\n",
    "from sklearn.metrics import mean_squared_error"
   ]
  },
  {
   "cell_type": "code",
   "execution_count": 495,
   "id": "b003f6cc",
   "metadata": {},
   "outputs": [],
   "source": [
    "a=1\n",
    "b=5\n",
    "n=1000 # number of sample\n",
    "delta=8/255 #noise level\n",
    "delta2=delta\n",
    "aug=5"
   ]
  },
  {
   "cell_type": "code",
   "execution_count": 496,
   "id": "bd3950a4",
   "metadata": {},
   "outputs": [],
   "source": [
    "\n",
    "\n",
    "\n",
    "\n",
    "# Get the current working directory\n",
    "current_dir = os.getcwd()\n",
    "\n",
    "# Specify the name of the folder containing CIFAR-10 batches\n",
    "folder_name = 'cifar10_batches'  # Replace with your actual folder name\n",
    "\n",
    "# Construct the path to the folder\n",
    "folder_path = os.path.join(current_dir, folder_name)\n",
    "\n",
    "# Initialize empty lists to store data and labels\n",
    "all_data = []\n",
    "all_labels = []\n",
    "\n",
    "# Load and concatenate training batches\n",
    "for i in range(1, 6):\n",
    "    batch_file_path = os.path.join(folder_path, f'data_batch_{i}')\n",
    "    with open(batch_file_path, 'rb') as file:\n",
    "        batch_data = pickle.load(file, encoding='bytes')\n",
    "        all_data.append(batch_data[b'data'])\n",
    "        all_labels.extend(batch_data[b'labels'])\n",
    "\n",
    "# Load test batch\n",
    "test_batch_file_path = os.path.join(folder_path, 'test_batch')\n",
    "with open(test_batch_file_path, 'rb') as file:\n",
    "    test_batch_data = pickle.load(file, encoding='bytes')\n",
    "    all_data.append(test_batch_data[b'data'])\n",
    "    all_labels.extend(test_batch_data[b'labels'])\n",
    "\n",
    "# Convert the lists to NumPy arrays, cast to float, and normalize\n",
    "x_train_and_test = np.concatenate(all_data, axis=0).astype(float) / 255.0\n",
    "y_train_and_test = np.array(all_labels).astype(float)\n",
    "\n",
    "# Reshape the data if needed (CIFAR-10 images are 32x32x3)\n",
    "x_train_and_test = x_train_and_test.reshape((len(x_train_and_test), 32, 32, 3))\n",
    "\n",
    "# Split into training and test sets\n",
    "x_train = x_train_and_test[:-len(test_batch_data[b'labels'])]\n",
    "y_train = y_train_and_test[:-len(test_batch_data[b'labels'])]\n",
    "x_test = x_train_and_test[-len(test_batch_data[b'labels']):]\n",
    "y_test = y_train_and_test[-len(test_batch_data[b'labels']):]\n",
    "\n",
    "# Flatten each image in the training set\n",
    "#x_train_flat = x_train.reshape((len(x_train), -1))  # -1 automatically computes the size of the remaining dimensions\n",
    " \n",
    "# Print the data types and the shape of the loaded, normalized, and flattened training data\n",
    "#print(\"Data type of x_train_flat:\", x_train_flat.dtype)\n",
    "#print(\"Normalized and flattened training data shape:\", x_train_flat.shape)"
   ]
  },
  {
   "cell_type": "code",
   "execution_count": 497,
   "id": "8045d3c0",
   "metadata": {},
   "outputs": [
    {
     "name": "stdout",
     "output_type": "stream",
     "text": [
      "Shape of x_train_ab_flat: (10000, 3072)\n",
      "Shape of y_train_ab: (10000,)\n",
      "Shape of x_test_ab_flat: (2000, 3072)\n",
      "Shape of y_test_ab: (2000,)\n"
     ]
    }
   ],
   "source": [
    "# Choose the labels 'a' and 'b'\n",
    "label_1 = a  # Replace with the actual label you want to extract\n",
    "label_2 = b  # Replace with the actual label you want to extract\n",
    "\n",
    "# Filter training set\n",
    "mask_train_1 = (y_train == label_1)\n",
    "mask_train_2 = (y_train == label_2)\n",
    "mask_train = np.logical_or(mask_train_1, mask_train_2)\n",
    "\n",
    "trainx = x_train[mask_train]\n",
    "trainy = y_train[mask_train]\n",
    "\n",
    "# Assign values -1 for label 'a' and 1 for label 'b'\n",
    "trainy= np.where(trainy == label_1, -1, 1)\n",
    "\n",
    "# Filter test set\n",
    "mask_test_1 = (y_test == label_1)\n",
    "mask_test_2 = (y_test == label_2)\n",
    "mask_test = np.logical_or(mask_test_1, mask_test_2)\n",
    "\n",
    "testx = x_test[mask_test]\n",
    "testy = y_test[mask_test]\n",
    "\n",
    "# Assign values -1 for label 'a' and 1 for label 'b'\n",
    "testy = np.where(testy == label_1, -1, 1)\n",
    "\n",
    "# Flatten each image in the extracted sets\n",
    "trainx= trainx.reshape((len(trainx), -1))\n",
    "testx = testx.reshape((len(testx), -1))\n",
    "\n",
    "# Print the shapes of the extracted and flattened sets\n",
    "print(\"Shape of x_train_ab_flat:\", trainx.shape)\n",
    "print(\"Shape of y_train_ab:\", trainy.shape)\n",
    "print(\"Shape of x_test_ab_flat:\", testx.shape)\n",
    "print(\"Shape of y_test_ab:\", testy.shape)\n"
   ]
  },
  {
   "cell_type": "code",
   "execution_count": 498,
   "id": "6926c95e",
   "metadata": {},
   "outputs": [
    {
     "name": "stdout",
     "output_type": "stream",
     "text": [
      "Shape of x_train_sampled_flat: (1000, 3072)\n",
      "Shape of y_train_sampled: (1000,)\n"
     ]
    }
   ],
   "source": [
    "# Get the indices of the samples\n",
    "sample_indices = np.random.choice(len(trainx), n, replace=False)\n",
    "\n",
    "# Extract the sampled data points\n",
    "x_train_sampled = trainx[sample_indices]\n",
    "y_train_sampled = trainy[sample_indices]\n",
    "\n",
    "# Print the shapes of the sampled and flattened set\n",
    "print(\"Shape of x_train_sampled_flat:\", x_train_sampled.shape)\n",
    "print(\"Shape of y_train_sampled:\", y_train_sampled.shape)\n"
   ]
  },
  {
   "cell_type": "code",
   "execution_count": 499,
   "id": "1ac74113",
   "metadata": {},
   "outputs": [],
   "source": [
    "def Ker(X,Y):\n",
    "    x=np.sum(np.square(X),axis=1)\n",
    "    y=np.sum(np.square(Y),axis=1)\n",
    "    x=x.reshape(len(x),1)\n",
    "    y=y.reshape(len(y),1)\n",
    "    temp1=x.repeat(len(y),axis=1)\n",
    "    temp2=y.repeat(len(x),axis=1)\n",
    "    squ=temp1+np.transpose(temp2)-2*np.matmul(X,np.transpose(Y))\n",
    "    #squ=np.sqrt(squ)\n",
    "    mat=np.exp(-squ/200)  # kernel bandwith 1,100,200,784\n",
    "    return mat"
   ]
  },
  {
   "cell_type": "code",
   "execution_count": 500,
   "id": "47349b8f",
   "metadata": {},
   "outputs": [],
   "source": [
    "train1=x_train_sampled\n",
    "ytrain1=y_train_sampled\n",
    "test1=testx\n",
    "Ytest=testy\n",
    "N=np.random.normal(0,1,size=(len(test1),3072))\n",
    "test=test1+delta2*N\n",
    "P=np.random.normal(0,1,size=(aug,len(train1),3072))\n",
    "temp2=train1+delta*P\n",
    "temp2=np.array([temp2]).reshape(aug*len(train1), 3072)\n",
    "    \n",
    "train = temp2 #augmentation training set"
   ]
  },
  {
   "cell_type": "code",
   "execution_count": 501,
   "id": "4fc7a9c3",
   "metadata": {},
   "outputs": [
    {
     "name": "stdout",
     "output_type": "stream",
     "text": [
      "R= 1e-10\n"
     ]
    },
    {
     "name": "stderr",
     "output_type": "stream",
     "text": [
      "/var/folders/_t/4qp90hbx1xg52jv0k37yy8hw0000gn/T/ipykernel_15009/3894741130.py:9: RuntimeWarning: invalid value encountered in sqrt\n",
      "  squ=np.sqrt(squ)\n"
     ]
    },
    {
     "name": "stdout",
     "output_type": "stream",
     "text": [
      "1.0\n",
      "R= 1e-08\n",
      "1.0\n",
      "R= 1e-07\n",
      "1.0\n",
      "R= 1e-06\n"
     ]
    },
    {
     "ename": "KeyboardInterrupt",
     "evalue": "",
     "output_type": "error",
     "traceback": [
      "\u001b[0;31m---------------------------------------------------------------------------\u001b[0m",
      "\u001b[0;31mKeyboardInterrupt\u001b[0m                         Traceback (most recent call last)",
      "Input \u001b[0;32mIn [501]\u001b[0m, in \u001b[0;36m<cell line: 3>\u001b[0;34m()\u001b[0m\n\u001b[1;32m     21\u001b[0m I2\u001b[38;5;241m=\u001b[39mnp\u001b[38;5;241m.\u001b[39midentity(m)\n\u001b[1;32m     23\u001b[0m k2\u001b[38;5;241m=\u001b[39mnp\u001b[38;5;241m.\u001b[39mmatrix(k1)\u001b[38;5;241m+\u001b[39mm\u001b[38;5;241m*\u001b[39mR\u001b[38;5;241m*\u001b[39mI2\n\u001b[0;32m---> 27\u001b[0m k_inv\u001b[38;5;241m=\u001b[39m\u001b[43mnp\u001b[49m\u001b[38;5;241;43m.\u001b[39;49m\u001b[43mlinalg\u001b[49m\u001b[38;5;241;43m.\u001b[39;49m\u001b[43minv\u001b[49m\u001b[43m(\u001b[49m\u001b[43mk2\u001b[49m\u001b[43m)\u001b[49m\n\u001b[1;32m     30\u001b[0m Y\u001b[38;5;241m=\u001b[39mYtrain\u001b[38;5;241m.\u001b[39mreshape(\u001b[38;5;28mlen\u001b[39m(Ytrain),\u001b[38;5;241m1\u001b[39m)\n\u001b[1;32m     31\u001b[0m temp1\u001b[38;5;241m=\u001b[39mnp\u001b[38;5;241m.\u001b[39mmatmul(b,k_inv)\n",
      "File \u001b[0;32m<__array_function__ internals>:180\u001b[0m, in \u001b[0;36minv\u001b[0;34m(*args, **kwargs)\u001b[0m\n",
      "File \u001b[0;32m~/opt/anaconda3/envs/tensorflow/lib/python3.9/site-packages/numpy/linalg/linalg.py:545\u001b[0m, in \u001b[0;36minv\u001b[0;34m(a)\u001b[0m\n\u001b[1;32m    543\u001b[0m signature \u001b[38;5;241m=\u001b[39m \u001b[38;5;124m'\u001b[39m\u001b[38;5;124mD->D\u001b[39m\u001b[38;5;124m'\u001b[39m \u001b[38;5;28;01mif\u001b[39;00m isComplexType(t) \u001b[38;5;28;01melse\u001b[39;00m \u001b[38;5;124m'\u001b[39m\u001b[38;5;124md->d\u001b[39m\u001b[38;5;124m'\u001b[39m\n\u001b[1;32m    544\u001b[0m extobj \u001b[38;5;241m=\u001b[39m get_linalg_error_extobj(_raise_linalgerror_singular)\n\u001b[0;32m--> 545\u001b[0m ainv \u001b[38;5;241m=\u001b[39m \u001b[43m_umath_linalg\u001b[49m\u001b[38;5;241;43m.\u001b[39;49m\u001b[43minv\u001b[49m\u001b[43m(\u001b[49m\u001b[43ma\u001b[49m\u001b[43m,\u001b[49m\u001b[43m \u001b[49m\u001b[43msignature\u001b[49m\u001b[38;5;241;43m=\u001b[39;49m\u001b[43msignature\u001b[49m\u001b[43m,\u001b[49m\u001b[43m \u001b[49m\u001b[43mextobj\u001b[49m\u001b[38;5;241;43m=\u001b[39;49m\u001b[43mextobj\u001b[49m\u001b[43m)\u001b[49m\n\u001b[1;32m    546\u001b[0m \u001b[38;5;28;01mreturn\u001b[39;00m wrap(ainv\u001b[38;5;241m.\u001b[39mastype(result_t, copy\u001b[38;5;241m=\u001b[39m\u001b[38;5;28;01mFalse\u001b[39;00m))\n",
      "\u001b[0;31mKeyboardInterrupt\u001b[0m: "
     ]
    }
   ],
   "source": [
    "z=[10**(-10), 10**(-8),10**(-7),10**(-6),10**(-5),10**(-4),10**(-3),10**(-2)]\n",
    "error=[]\n",
    "for R in z:\n",
    "    print('R=',R)\n",
    "    MIS=np.zeros(1)\n",
    "    for a in range(1):\n",
    "        #P=np.random.normal(0,1,size=(aug,len(train1),3072))\n",
    "        #temp2=train1+delta*P\n",
    "        #temp2=np.array([temp2]).reshape(aug*len(train1), 3072)\n",
    "    \n",
    "        #train = temp2 #augmentation training set\n",
    "        err=np.zeros(1)\n",
    "        for j in range(1):\n",
    "            #N=np.random.normal(0,1,size=(len(test1),3072))\n",
    "            #test=test1+delta2*N\n",
    "            Ytrain=np.tile(ytrain1,aug)\n",
    "            b=Ker(test,train)\n",
    "            k1=Ker(train,train)\n",
    "            n=len(Ytest)\n",
    "            m=len(train)\n",
    "            I2=np.identity(m)\n",
    "        \n",
    "            k2=np.matrix(k1)+m*R*I2\n",
    "\n",
    "\n",
    "\n",
    "            k_inv=np.linalg.inv(k2)\n",
    "\n",
    "\n",
    "            Y=Ytrain.reshape(len(Ytrain),1)\n",
    "            temp1=np.matmul(b,k_inv)\n",
    "            temp2=np.matmul(temp1,Y)\n",
    "\n",
    "         \n",
    "            y_pred1=temp2\n",
    "            y_pred2=np.ravel(y_pred1)\n",
    "            te = np.where(y_pred2<0, -np.ones_like(y_pred2), np.ones_like(y_pred2))\n",
    "            #print(y_pred2)\n",
    "            #err[j]=mean_squared_error(Ytest,y_pred2)\n",
    "            mis=[]\n",
    "            for i in range(len(Ytest)):\n",
    "                if np.sign(temp2[i])!=np.sign(Ytest[i]):\n",
    "                    mis.append(i)\n",
    "            err[j]=len(mis)/n\n",
    "        #print(err)\n",
    "        print(np.max(err))\n",
    "        MIS[a]=np.max(err)\n",
    "    error.append(np.mean(MIS))\n",
    "       "
   ]
  },
  {
   "cell_type": "code",
   "execution_count": null,
   "id": "abbb8c32",
   "metadata": {},
   "outputs": [],
   "source": [
    "#no augmented error\n",
    "\n",
    "error2=[]\n",
    "\n",
    "for R in z:\n",
    "    MIS=np.zeros(1)\n",
    "    for a in range(1):\n",
    "        #N=np.random.normal(0,1,size=(len(test1),3072))\n",
    "        #test=test1+delta2*N\n",
    "        B_1=Ker(test,train1)\n",
    "        K_1=Ker(train1,train1)\n",
    "        M=len(train1)\n",
    "        I_2=np.identity(M)\n",
    "\n",
    "        K_2=np.matrix(K_1)+M*R*I_2\n",
    "\n",
    "\n",
    "\n",
    "        Kinv=np.linalg.inv(K_2)\n",
    "        Y=ytrain1.reshape(len(ytrain1),1)\n",
    "        temp1=np.matmul(B_1,Kinv)\n",
    "        temp2=np.matmul(temp1,Y)\n",
    "\n",
    "        y_bar=np.average(Ytest)\n",
    "\n",
    "        ybar=np.multiply(np.ones(n),y_bar)\n",
    "        num=0\n",
    "        den=0\n",
    "        y_pred1=temp2\n",
    "        y_pred2=np.ravel(y_pred1)\n",
    "        te = np.where(y_pred2<0, -np.ones_like(y_pred2), np.ones_like(y_pred2))\n",
    "        mis=[]\n",
    "        for i in range(len(Ytest)):\n",
    "            if np.sign(temp2[i])!=np.sign(Ytest[i]):\n",
    "                mis.append(i)\n",
    "        \n",
    "        #num = np.linalg.norm(te - Ytest)**2\n",
    "        #den = np.linalg.norm(ybar-Ytest)**2\n",
    "        #errors=(num/den)\n",
    "        #print('misclassification=',mis)\n",
    "        MIS[a]=len(mis)/n\n",
    "    print(MIS)\n",
    "    print(np.max(MIS))\n",
    "    error2.append(np.max(MIS))"
   ]
  },
  {
   "cell_type": "code",
   "execution_count": null,
   "id": "6eb9e455",
   "metadata": {},
   "outputs": [],
   "source": [
    "plt.semilogx(z,error,label='Aug-')\n",
    "plt.semilogx(z,error2,label='NoAug-')\n",
    "plt.legend()\n",
    "plt.show()\n"
   ]
  },
  {
   "cell_type": "code",
   "execution_count": null,
   "id": "1106eff3",
   "metadata": {},
   "outputs": [],
   "source": []
  }
 ],
 "metadata": {
  "kernelspec": {
   "display_name": "Python 3.9 (tensorflow)",
   "language": "python",
   "name": "tensorflow"
  },
  "language_info": {
   "codemirror_mode": {
    "name": "ipython",
    "version": 3
   },
   "file_extension": ".py",
   "mimetype": "text/x-python",
   "name": "python",
   "nbconvert_exporter": "python",
   "pygments_lexer": "ipython3",
   "version": "3.9.13"
  }
 },
 "nbformat": 4,
 "nbformat_minor": 5
}
