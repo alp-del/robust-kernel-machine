{
 "cells": [
  {
   "cell_type": "code",
   "execution_count": 29,
   "id": "09d863d9",
   "metadata": {},
   "outputs": [],
   "source": [
    "import numpy as np\n",
    "import math\n",
    "import matplotlib.pyplot as plt\n",
    "n=20\n",
    "d=500\n",
    "delta=0.01\n",
    "sigma1=0.1\n",
    "m=1000\n",
    "N=n\n",
    "kap=1"
   ]
  },
  {
   "cell_type": "code",
   "execution_count": 30,
   "id": "b526c9d0",
   "metadata": {},
   "outputs": [],
   "source": [
    "def K(x,y):\n",
    "    return np.dot(x,y)+(np.dot(x,y))**2"
   ]
  },
  {
   "cell_type": "code",
   "execution_count": 31,
   "id": "cb3bd612",
   "metadata": {},
   "outputs": [],
   "source": [
    "l=np.zeros(d)\n",
    "for i in range(d):\n",
    "    l[i]=(1-((i)/d)**kap)**(1/kap)\n",
    "sigma=np.diag(l)\n",
    "mean=np.zeros(d)\n",
    "X=np.random.multivariate_normal(mean,sigma,size=n)\n",
    "X_train=np.array(X)\n",
    "I=np.identity(d)\n",
    "\n",
    "theta=np.random.multivariate_normal(mean,I,size=100)\n",
    "def f_star(x):\n",
    "    k1=[K(x,y) for y in theta]\n",
    "    return 0\n",
    "\n",
    "y=np.random.normal(0,sigma1**2,size=n)\n",
    "Y_train=np.array(y)\n",
    "X=np.random.multivariate_normal(mean,sigma,m)\n",
    "Xtest=np.array(X)\n",
    "Ytest=np.random.normal(0,sigma1**2,size=m)"
   ]
  },
  {
   "cell_type": "code",
   "execution_count": 32,
   "id": "3cafd839",
   "metadata": {},
   "outputs": [],
   "source": [
    "b=np.zeros((m,N))\n",
    "for i in range(m):\n",
    "    for j in range(N):\n",
    "        b[i][j]=K(Xtest[i],X_train[j])\n",
    "b=np.matrix(b) \n",
    "I=np.identity(N)\n",
    "k=np.zeros((N,N))\n",
    "for i in range(N):\n",
    "    for j in range(N):\n",
    "        k[i][j]=K(X_train[i],X_train[j])\n",
    "\n",
    "k=np.matrix(k)\n",
    "k_inv=np.linalg.inv(k)\n",
    "y=Y_train\n",
    "temp1=np.matmul(b,k_inv)\n",
    "temp2=np.matmul(temp1,y)"
   ]
  },
  {
   "cell_type": "code",
   "execution_count": 33,
   "id": "df24446e",
   "metadata": {},
   "outputs": [],
   "source": [
    "y_bar=np.average(Ytest)\n",
    "ybar=np.ones(m)*y_bar"
   ]
  },
  {
   "cell_type": "code",
   "execution_count": 34,
   "id": "702fab00",
   "metadata": {},
   "outputs": [],
   "source": [
    "num=0\n",
    "den=0\n",
    "ypred=temp2\n",
    "num = np.linalg.norm(ypred - Ytest)**2\n",
    "den = np.linalg.norm(ybar-Ytest)**2\n",
    "error=num/den\n",
    "error1=math.log(error)"
   ]
  },
  {
   "cell_type": "code",
   "execution_count": 35,
   "id": "82b36bbd",
   "metadata": {},
   "outputs": [
    {
     "name": "stdout",
     "output_type": "stream",
     "text": [
      "0.0007579624463958555\n"
     ]
    }
   ],
   "source": [
    "print(error1)"
   ]
  }
 ],
 "metadata": {
  "kernelspec": {
   "display_name": "Python 3 (ipykernel)",
   "language": "python",
   "name": "python3"
  },
  "language_info": {
   "codemirror_mode": {
    "name": "ipython",
    "version": 3
   },
   "file_extension": ".py",
   "mimetype": "text/x-python",
   "name": "python",
   "nbconvert_exporter": "python",
   "pygments_lexer": "ipython3",
   "version": "3.9.12"
  }
 },
 "nbformat": 4,
 "nbformat_minor": 5
}
