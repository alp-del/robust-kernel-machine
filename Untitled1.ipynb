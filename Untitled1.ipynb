{
 "cells": [
  {
   "cell_type": "code",
   "execution_count": 27,
   "id": "0f58140b",
   "metadata": {},
   "outputs": [],
   "source": [
    "import numpy as np\n",
    "import math\n",
    "import matplotlib.pyplot as plt\n",
    "n=20\n",
    "d=100\n",
    "delta=0.01\n",
    "sigma1=0.1\n",
    "m=1000\n",
    "N=n*4\n",
    "kap=1"
   ]
  },
  {
   "cell_type": "code",
   "execution_count": 28,
   "id": "1b993d6b",
   "metadata": {},
   "outputs": [],
   "source": [
    "def K(x,y):\n",
    "    return np.dot(x,y)+(np.dot(x,y))**2"
   ]
  },
  {
   "cell_type": "code",
   "execution_count": 29,
   "id": "264e1fae",
   "metadata": {},
   "outputs": [],
   "source": [
    "l=np.zeros(d)\n",
    "for i in range(d):\n",
    "    l[i]=(1-((i)/d)**kap)**(1/kap)\n",
    "sigma=np.diag(l)\n",
    "mean=np.zeros(d)\n",
    "X=np.random.multivariate_normal(mean,sigma,size=n)\n",
    "xtrain=np.array(X)\n",
    "I=np.identity(d)\n",
    "p=np.random.multivariate_normal(mean,I,size=n)\n",
    "P=np.array(p)\n",
    "temp1=xtrain+delta*P\n",
    "temp1=np.concatenate((xtrain,temp1))\n",
    "p=np.random.multivariate_normal(mean,I,size=n)\n",
    "P=np.array(p)\n",
    "temp2=xtrain+delta*P\n",
    "temp2=np.concatenate((temp1,temp2))\n",
    "p=np.random.multivariate_normal(mean,I,size=n)\n",
    "P=np.array(p)\n",
    "temp3=xtrain+delta*P\n",
    "\n",
    "X_train=np.concatenate((temp2,temp3))\n",
    "\n",
    "theta=np.random.multivariate_normal(mean,I,size=100)\n",
    "def f_star(x):\n",
    "    k1=[K(x,y) for y in theta]\n",
    "    return 0\n",
    "\n",
    "y=np.random.normal(0,sigma1**2,size=n)\n",
    "y_train=np.concatenate((y,y))\n",
    "Y_train=np.concatenate((y_train,y_train))\n",
    "\n",
    "\n",
    "X=np.random.multivariate_normal(mean,sigma,m)\n",
    "Xtest=np.array(X)\n",
    "Ytest=np.random.normal(0,sigma1**2,size=m)"
   ]
  },
  {
   "cell_type": "code",
   "execution_count": 30,
   "id": "a7a83fbc",
   "metadata": {},
   "outputs": [],
   "source": [
    "b=np.zeros((m,N))\n",
    "for i in range(m):\n",
    "    for j in range(N):\n",
    "        b[i][j]=K(Xtest[i],X_train[j])\n",
    "b=np.matrix(b) \n",
    "I=np.identity(N)\n",
    "k=np.zeros((N,N))\n",
    "for i in range(N):\n",
    "    for j in range(N):\n",
    "        k[i][j]=K(X_train[i],X_train[j])\n",
    "\n",
    "k=np.matrix(k)\n",
    "k_inv=np.linalg.inv(k)\n",
    "y=Y_train\n",
    "temp1=np.matmul(b,k_inv)\n",
    "temp2=np.matmul(temp1,y)"
   ]
  },
  {
   "cell_type": "code",
   "execution_count": 31,
   "id": "14816f5f",
   "metadata": {},
   "outputs": [],
   "source": [
    "y_bar=np.average(Ytest)\n",
    "ybar=np.ones(m)*y_bar"
   ]
  },
  {
   "cell_type": "code",
   "execution_count": 32,
   "id": "fa7b42a1",
   "metadata": {},
   "outputs": [],
   "source": [
    "num=0\n",
    "den=0\n",
    "ypred=temp2\n",
    "num = np.linalg.norm(ypred - Ytest)**2\n",
    "den = np.linalg.norm(ybar-Ytest)**2\n",
    "error=num/den\n",
    "error1=math.log(error)"
   ]
  },
  {
   "cell_type": "code",
   "execution_count": null,
   "id": "99b3ec77",
   "metadata": {},
   "outputs": [],
   "source": []
  },
  {
   "cell_type": "code",
   "execution_count": 33,
   "id": "eb43c584",
   "metadata": {},
   "outputs": [
    {
     "name": "stdout",
     "output_type": "stream",
     "text": [
      "0.0070732519247076\n"
     ]
    }
   ],
   "source": [
    "print(error1)"
   ]
  },
  {
   "cell_type": "code",
   "execution_count": null,
   "id": "fe434231",
   "metadata": {},
   "outputs": [],
   "source": []
  }
 ],
 "metadata": {
  "kernelspec": {
   "display_name": "Python 3 (ipykernel)",
   "language": "python",
   "name": "python3"
  },
  "language_info": {
   "codemirror_mode": {
    "name": "ipython",
    "version": 3
   },
   "file_extension": ".py",
   "mimetype": "text/x-python",
   "name": "python",
   "nbconvert_exporter": "python",
   "pygments_lexer": "ipython3",
   "version": "3.9.12"
  }
 },
 "nbformat": 4,
 "nbformat_minor": 5
}
