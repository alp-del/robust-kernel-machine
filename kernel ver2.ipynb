{
 "cells": [
  {
   "cell_type": "code",
   "execution_count": 56,
   "id": "133f1d21",
   "metadata": {},
   "outputs": [],
   "source": [
    "import numpy as np\n",
    "import pandas as pd\n",
    "import matplotlib.pyplot as plt\n",
    "import mnist as mnist\n",
    "import math\n",
    "import time"
   ]
  },
  {
   "cell_type": "code",
   "execution_count": 57,
   "id": "627bfcca",
   "metadata": {},
   "outputs": [
    {
     "name": "stdout",
     "output_type": "stream",
     "text": [
      "Load MNIST dataset.\n",
      "60000 train samples\n",
      "10000 test samples\n"
     ]
    }
   ],
   "source": [
    "(train_x, train_y), (test_x, test_y) = mnist.load()"
   ]
  },
  {
   "cell_type": "code",
   "execution_count": 58,
   "id": "f5dbc53a",
   "metadata": {},
   "outputs": [
    {
     "ename": "IndexError",
     "evalue": "list index out of range",
     "output_type": "error",
     "traceback": [
      "\u001b[0;31m---------------------------------------------------------------------------\u001b[0m",
      "\u001b[0;31mIndexError\u001b[0m                                Traceback (most recent call last)",
      "Input \u001b[0;32mIn [58]\u001b[0m, in \u001b[0;36m<cell line: 2>\u001b[0;34m()\u001b[0m\n\u001b[1;32m      1\u001b[0m A \u001b[38;5;241m=\u001b[39m [train_x[train_y\u001b[38;5;241m==\u001b[39mi,:] \u001b[38;5;28;01mfor\u001b[39;00m i \u001b[38;5;129;01min\u001b[39;00m \u001b[38;5;28mrange\u001b[39m(\u001b[38;5;241m9\u001b[39m)]\n\u001b[0;32m----> 2\u001b[0m \u001b[38;5;28mprint\u001b[39m(\u001b[43ma\u001b[49m\u001b[43m[\u001b[49m\u001b[38;5;241;43m2\u001b[39;49m\u001b[43m]\u001b[49m\u001b[38;5;241m.\u001b[39mshape, a[\u001b[38;5;241m5\u001b[39m]\u001b[38;5;241m.\u001b[39mshape)\n\u001b[1;32m      3\u001b[0m train \u001b[38;5;241m=\u001b[39m np\u001b[38;5;241m.\u001b[39mconcatenate((a[\u001b[38;5;241m2\u001b[39m], a[\u001b[38;5;241m5\u001b[39m]), axis\u001b[38;5;241m=\u001b[39m\u001b[38;5;241m0\u001b[39m)\n\u001b[1;32m      4\u001b[0m \u001b[38;5;28mprint\u001b[39m(train\u001b[38;5;241m.\u001b[39mshape)\n",
      "\u001b[0;31mIndexError\u001b[0m: list index out of range"
     ]
    }
   ],
   "source": [
    "A = [train_x[train_y==i,:] for i in range(9)]\n",
    "print(a[2].shape, a[5].shape)\n",
    "train = np.concatenate((a[2], a[5]), axis=0)\n",
    "print(train.shape)\n",
    "n=len(train)\n",
    "\n",
    "y1=np.ones(len(a[2]))\n",
    "y2=np.ones(len(a[5]))*(-1)\n",
    "\n",
    "ytrain=np.concatenate((y1,y2))\n",
    "\n"
   ]
  },
  {
   "cell_type": "code",
   "execution_count": null,
   "id": "e0130956",
   "metadata": {},
   "outputs": [],
   "source": [
    "B= [test_x[test_y==i,:] for i in range(9)]\n",
    "print(b[2].shape,a[5].shape)\n",
    "test = np.concatenate((b[2],b[5]),axis=0)\n",
    "print(test.shape)\n",
    "m=len(test)\n",
    "y1=np.ones(len(b[2]))\n",
    "y2=np.ones(len(b[5]))*(-1)\n",
    "ytest=np.concatenate((y1,y2))"
   ]
  },
  {
   "cell_type": "code",
   "execution_count": null,
   "id": "4822582e",
   "metadata": {},
   "outputs": [],
   "source": [
    "def K(x,y):\n",
    "    return math.exp(-(np.linalg.norm(x-y))**2/(784))"
   ]
  },
  {
   "cell_type": "code",
   "execution_count": null,
   "id": "8070f10c",
   "metadata": {},
   "outputs": [],
   "source": [
    "def f(l):\n",
    "    b=[]\n",
    "    for a in test:\n",
    "        row=[]\n",
    "        for y in train:\n",
    "            row.append(K(a,y))\n",
    "        b.append(row)\n",
    "    b=np.matrix(b) \n",
    "    I=np.identity(n)\n",
    "    k=[]\n",
    "    for i in range(n):\n",
    "        row=[]\n",
    "        for j in range(n):\n",
    "            row.append(K(X[i],X[j]))\n",
    "    #Row=np.array(row)\n",
    "        k.append(row)\n",
    "    k=k+l*I\n",
    "    \n",
    "    k=np.matrix(k)\n",
    "    k_inv=np.linalg.inv(k)\n",
    "    y=y_train\n",
    "    temp1=np.matmul(b,k_inv)\n",
    "    temp2=np.matmul(temp1,y)\n",
    "    return temp2"
   ]
  },
  {
   "cell_type": "code",
   "execution_count": null,
   "id": "20627655",
   "metadata": {},
   "outputs": [],
   "source": [
    "y_bar=np.average(ytest)\n",
    "print(y_bar)\n",
    "ybar=np.ones(m)*y_bar\n"
   ]
  },
  {
   "cell_type": "code",
   "execution_count": null,
   "id": "0ee5d1d5",
   "metadata": {},
   "outputs": [],
   "source": [
    "z=[0, 0.01,0.02, 0.04, 0.08, 0.16, 0.32, 0.64, 1.28]\n",
    "error=[]\n",
    "for l in z:\n",
    "    num=0\n",
    "    den=0\n",
    "    y_pred1=f(l)\n",
    "    y_pred2=np.ravel(y_pred1)\n",
    "    te = np.where(y_pred2<0, -np.ones_like(y_pred2), np.ones_like(y_pred2))\n",
    "    num = np.linalg.norm(te - ytest)**2\n",
    "    den = np.linalg.norm(ybar-ytest)**2\n",
    "    error.append(num/den)\n",
    "print(error)\n"
   ]
  }
 ],
 "metadata": {
  "kernelspec": {
   "display_name": "Python 3.9 (tensorflow)",
   "language": "python",
   "name": "tensorflow"
  },
  "language_info": {
   "codemirror_mode": {
    "name": "ipython",
    "version": 3
   },
   "file_extension": ".py",
   "mimetype": "text/x-python",
   "name": "python",
   "nbconvert_exporter": "python",
   "pygments_lexer": "ipython3",
   "version": "3.9.13"
  }
 },
 "nbformat": 4,
 "nbformat_minor": 5
}
