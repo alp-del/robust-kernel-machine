{
 "cells": [
  {
   "cell_type": "markdown",
   "id": "e808a759",
   "metadata": {},
   "source": [
    "Implement kernel regression form the paper \"Just Interpolate: Kernel “Ridgeless” Regression Can Generalize\".\n",
    "The model is given by:\n",
    "$f(x)=K(x,X)(K(X,X)+\\lambda I)^{-1}Y$, where $K(x,y)$ is the Guassian kernel $K(x,y)=\\exp(-\\vert\\vert x-y\\vert\\vert^2/d)$.\n",
    "Some parameters: $\\lambda=0$, sample size=10000/5000, $error=\\frac{\\sum_i (f(x_i)-y_i)^2}{\\sum_i (\\bar{y}-y_i)^2}$, $d=784$\n",
    "We choose a pair of digits from MNIST dataset."
   ]
  },
  {
   "cell_type": "code",
   "execution_count": 9,
   "id": "9a6d2044",
   "metadata": {},
   "outputs": [],
   "source": [
    "import numpy as np\n",
    "import pandas as pd\n",
    "import matplotlib.pyplot as plt\n",
    "import EigenPro2.mnist as mnist\n",
    "import math\n",
    "import time"
   ]
  },
  {
   "cell_type": "markdown",
   "id": "bb7ae5d0",
   "metadata": {},
   "source": [
    "load MNIST dataset"
   ]
  },
  {
   "cell_type": "code",
   "execution_count": 10,
   "id": "0bc03c64",
   "metadata": {},
   "outputs": [
    {
     "name": "stdout",
     "output_type": "stream",
     "text": [
      "Load MNIST dataset.\n",
      "60000 train samples\n",
      "10000 test samples\n",
      "X_train: (60000, 784)\n",
      "Y_train: (60000,)\n",
      "X_test:  (10000, 784)\n",
      "Y_test:  (10000,)\n"
     ]
    }
   ],
   "source": [
    "(train_x, train_y), (test_x, test_y) = mnist.load()\n",
    "\n",
    "print('X_train: ' + str(train_x.shape))\n",
    "print('Y_train: ' + str(train_y.shape))\n",
    "print('X_test:  '  + str(test_x.shape))\n",
    "print('Y_test:  '  + str(test_y.shape))"
   ]
  },
  {
   "cell_type": "markdown",
   "id": "926810f2",
   "metadata": {},
   "source": [
    "Note that we here only use the pair (2,6) to train our model. So we extract the data points which lable is 2 or 6. And relabeled as -1 and 1.\n",
    "And choose different sizes of our training set. Here n=5000\n"
   ]
  },
  {
   "cell_type": "code",
   "execution_count": 11,
   "id": "db977404",
   "metadata": {},
   "outputs": [
    {
     "name": "stdout",
     "output_type": "stream",
     "text": [
      "11876\n",
      "5000\n"
     ]
    },
    {
     "data": {
      "text/plain": [
       " 1    2508\n",
       "-1    2492\n",
       "dtype: int64"
      ]
     },
     "execution_count": 11,
     "metadata": {},
     "output_type": "execute_result"
    }
   ],
   "source": [
    "X_temp=[]\n",
    "X=[]\n",
    "Y=[]\n",
    "Y_temp=[]\n",
    "for i in range(60000):\n",
    "    if train_y[i] ==2:\n",
    "        \n",
    "        temp=train_x[i].flatten()\n",
    "        temp2=-1\n",
    "        X_temp.append(temp)\n",
    "        Y_temp.append(temp2)\n",
    "    elif train_y[i]==6:\n",
    "        temp=train_x[i].flatten()\n",
    "        temp2=1\n",
    "        X_temp.append(temp)\n",
    "        Y_temp.append(temp2)\n",
    "\n",
    "print(len(Y_temp))\n",
    "for i in range(5000):\n",
    "    Y.append(Y_temp[i])\n",
    "    X.append(X_temp[i])\n",
    "print(len(Y))\n",
    "index=pd.Index(Y)\n",
    "index.value_counts()  \n",
    "    "
   ]
  },
  {
   "cell_type": "markdown",
   "id": "f96cc009",
   "metadata": {},
   "source": [
    "Define the kernel function\n"
   ]
  },
  {
   "cell_type": "code",
   "execution_count": 12,
   "id": "b6e631ea",
   "metadata": {},
   "outputs": [],
   "source": [
    "def K(x,y):\n",
    "    return math.exp(-(np.linalg.norm(x-y))**2/(784))\n",
    "        \n",
    "        \n",
    "\n",
    "       "
   ]
  },
  {
   "cell_type": "markdown",
   "id": "88bb85c1",
   "metadata": {},
   "source": [
    "Construct the test set with only 2 and 5. Relabel as -1 and 1"
   ]
  },
  {
   "cell_type": "code",
   "execution_count": 13,
   "id": "d6999437",
   "metadata": {},
   "outputs": [
    {
     "name": "stdout",
     "output_type": "stream",
     "text": [
      "1990\n"
     ]
    }
   ],
   "source": [
    "X_test=[]\n",
    "Y_test=[]\n",
    "for i in range(10000):\n",
    "    if test_y[i] ==2:\n",
    "        \n",
    "        temp=train_x[i].flatten()\n",
    "        temp2=-1\n",
    "        X_test.append(temp)\n",
    "        Y_test.append(temp2)\n",
    "    elif test_y[i] ==6:\n",
    "        temp=train_x[i].flatten()\n",
    "        temp2=1\n",
    "        X_test.append(temp)\n",
    "        Y_test.append(temp2)\n",
    "print(len(X_test))"
   ]
  },
  {
   "cell_type": "code",
   "execution_count": 14,
   "id": "d729ce13",
   "metadata": {},
   "outputs": [],
   "source": [
    "def f(A,l):\n",
    "    b=[]\n",
    "    for a in A:\n",
    "        row=[]\n",
    "        for y in X:\n",
    "            row.append(K(a,y))\n",
    "        b.append(row)\n",
    "    b=np.matrix(b) \n",
    "    I=np.identity(5000)\n",
    "    k=[]\n",
    "    for i in range(5000):\n",
    "        row=[]\n",
    "        for j in range(5000):\n",
    "            row.append(K(X[i],X[j]))\n",
    "    #Row=np.array(row)\n",
    "        k.append(row)\n",
    "    k=k+l*I\n",
    "    \n",
    "    k=np.matrix(k)\n",
    "    k_inv=np.linalg.inv(k)\n",
    "    y=np.array(Y)\n",
    "    temp1=np.matmul(b,k_inv)\n",
    "    temp2=np.matmul(temp1,y)\n",
    "    return temp2\n",
    "    "
   ]
  },
  {
   "cell_type": "code",
   "execution_count": 15,
   "id": "4179329c",
   "metadata": {},
   "outputs": [
    {
     "name": "stdout",
     "output_type": "stream",
     "text": [
      "-0.0371859296482412\n"
     ]
    }
   ],
   "source": [
    "y_bar=np.average(Y_test)\n",
    "print(y_bar)"
   ]
  },
  {
   "cell_type": "code",
   "execution_count": 16,
   "id": "237afadc",
   "metadata": {},
   "outputs": [
    {
     "name": "stdout",
     "output_type": "stream",
     "text": [
      "0\n",
      "[2.6756955711797463]\n",
      "205.13412404060364\n"
     ]
    }
   ],
   "source": [
    "\n",
    "z=[0]#, 0.01,0.02, 0.04, 0.08, 0.16, 0.32, 0.64, 1.28]\n",
    "error=[]\n",
    "\n",
    "time_start=time.time()\n",
    "for l in z:\n",
    "    num=0\n",
    "    den=0\n",
    "    print(l)\n",
    "    te=[]\n",
    "    y_pred1=f(X_test,l)\n",
    "    y_pred2=np.ravel(y_pred1)\n",
    "    \n",
    "    for i in range(1990):\n",
    "        if y_pred2[i]>0:\n",
    "            temp=1\n",
    "            te.append(temp)\n",
    "        elif y_pred2[i]<0:\n",
    "            temp=-1\n",
    "            te.append(temp)\n",
    "    for temp in te:\n",
    "        num+=(temp-Y_test[i])**2\n",
    "        den+=(y_bar-Y_test[i])**2\n",
    "    error.append(num/den)\n",
    "print(error)\n",
    "#error=np.array(error)\n",
    "#error=error.flatten\n",
    "\n",
    "time_end=time.time()\n",
    "time=time_end-time_start\n",
    "print(time)"
   ]
  },
  {
   "cell_type": "markdown",
   "id": "287c67b4",
   "metadata": {},
   "source": [
    "plt.semilogy(z,error)\n",
    "plt.xlabel('lambda')\n",
    "plt.ylabel('log(error)')\n",
    "plt.show()"
   ]
  },
  {
   "cell_type": "code",
   "execution_count": 17,
   "id": "c3013d2e",
   "metadata": {},
   "outputs": [
    {
     "name": "stdout",
     "output_type": "stream",
     "text": [
      "972\n"
     ]
    }
   ],
   "source": [
    "mis=[]\n",
    "for i in range(1990):\n",
    "    if Y_test[i]!=te[i]:\n",
    "        mis.append(Y_test[i])\n",
    "print(len(mis))\n",
    "    "
   ]
  },
  {
   "cell_type": "code",
   "execution_count": null,
   "id": "2ea11912",
   "metadata": {},
   "outputs": [],
   "source": []
  },
  {
   "cell_type": "code",
   "execution_count": null,
   "id": "f6f4e555",
   "metadata": {},
   "outputs": [],
   "source": []
  }
 ],
 "metadata": {
  "kernelspec": {
   "display_name": "Python 3 (ipykernel)",
   "language": "python",
   "name": "python3"
  },
  "language_info": {
   "codemirror_mode": {
    "name": "ipython",
    "version": 3
   },
   "file_extension": ".py",
   "mimetype": "text/x-python",
   "name": "python",
   "nbconvert_exporter": "python",
   "pygments_lexer": "ipython3",
   "version": "3.9.12"
  }
 },
 "nbformat": 4,
 "nbformat_minor": 5
}
