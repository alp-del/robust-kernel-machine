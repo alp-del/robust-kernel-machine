{
 "cells": [
  {
   "cell_type": "code",
   "execution_count": 32,
   "id": "750ce7da",
   "metadata": {},
   "outputs": [],
   "source": [
    "import numpy as np\n",
    "import math\n",
    "import matplotlib.pyplot as plt\n",
    "import random\n",
    "import time\n",
    "import math\n",
    "import pandas as pd\n",
    "from sklearn.metrics import mean_squared_error\n",
    "aug=10\n",
    "delta=0.05 #noise level"
   ]
  },
  {
   "cell_type": "code",
   "execution_count": 33,
   "id": "f2b3503c",
   "metadata": {},
   "outputs": [],
   "source": [
    "df = pd.read_csv('trainx.csv', header=None)\n",
    "trainx=df.to_numpy()\n",
    "df = pd.read_csv('trainy.csv', header=None)\n",
    "trainy=df.to_numpy()\n",
    "df = pd.read_csv('testx.csv', header=None)\n",
    "testx=df.to_numpy()\n",
    "df = pd.read_csv('testy.csv', header=None)\n",
    "testy=df.to_numpy()"
   ]
  },
  {
   "cell_type": "code",
   "execution_count": null,
   "id": "94197b9c",
   "metadata": {},
   "outputs": [],
   "source": []
  },
  {
   "cell_type": "code",
   "execution_count": 34,
   "id": "ab9d9d3e",
   "metadata": {},
   "outputs": [],
   "source": [
    "def Ker(X,Y):\n",
    "    x=np.sum(np.square(X),axis=1)\n",
    "    y=np.sum(np.square(Y),axis=1)\n",
    "    x=x.reshape(len(x),1)\n",
    "    y=y.reshape(len(y),1)\n",
    "    temp1=x.repeat(len(y),axis=1)\n",
    "    temp2=y.repeat(len(x),axis=1)\n",
    "    squ=temp1+np.transpose(temp2)-2*np.matmul(X,np.transpose(Y))\n",
    "    mat=np.exp(-squ/784)# kernel bandwith 1,100,200,784\n",
    "    return mat"
   ]
  },
  {
   "cell_type": "code",
   "execution_count": 35,
   "id": "79a95250",
   "metadata": {},
   "outputs": [
    {
     "name": "stdout",
     "output_type": "stream",
     "text": [
      "R= 1e-14\n",
      "0.423\n",
      "0.418\n",
      "0.4255\n",
      "0.4195\n",
      "0.419\n",
      "0.4205\n",
      "0.425\n",
      "0.426\n",
      "0.4205\n",
      "0.418\n",
      "R= 1e-13\n",
      "0.4215\n",
      "0.42\n",
      "0.4215\n",
      "0.4205\n",
      "0.4225\n",
      "0.4255\n",
      "0.4265\n",
      "0.4235\n",
      "0.4205\n",
      "0.423\n",
      "R= 1e-12\n",
      "0.4185\n",
      "0.426\n",
      "0.4225\n"
     ]
    },
    {
     "ename": "KeyboardInterrupt",
     "evalue": "",
     "output_type": "error",
     "traceback": [
      "\u001b[1;31m---------------------------------------------------------------------------\u001b[0m",
      "\u001b[1;31mKeyboardInterrupt\u001b[0m                         Traceback (most recent call last)",
      "Input \u001b[1;32mIn [35]\u001b[0m, in \u001b[0;36m<cell line: 3>\u001b[1;34m()\u001b[0m\n\u001b[0;32m     23\u001b[0m I2\u001b[38;5;241m=\u001b[39mnp\u001b[38;5;241m.\u001b[39midentity(m)\n\u001b[0;32m     25\u001b[0m k2\u001b[38;5;241m=\u001b[39mnp\u001b[38;5;241m.\u001b[39mmatrix(k1)\u001b[38;5;241m+\u001b[39mm\u001b[38;5;241m*\u001b[39mR\u001b[38;5;241m*\u001b[39mI2\n\u001b[1;32m---> 29\u001b[0m k_inv\u001b[38;5;241m=\u001b[39m\u001b[43mnp\u001b[49m\u001b[38;5;241;43m.\u001b[39;49m\u001b[43mlinalg\u001b[49m\u001b[38;5;241;43m.\u001b[39;49m\u001b[43minv\u001b[49m\u001b[43m(\u001b[49m\u001b[43mk2\u001b[49m\u001b[43m)\u001b[49m\n\u001b[0;32m     32\u001b[0m Y\u001b[38;5;241m=\u001b[39mYtrain\n\u001b[0;32m     33\u001b[0m temp1\u001b[38;5;241m=\u001b[39mnp\u001b[38;5;241m.\u001b[39mmatmul(b,k_inv)\n",
      "File \u001b[1;32m<__array_function__ internals>:5\u001b[0m, in \u001b[0;36minv\u001b[1;34m(*args, **kwargs)\u001b[0m\n",
      "File \u001b[1;32m~\\anaconda3\\envs\\tfgpu\\lib\\site-packages\\numpy\\linalg\\linalg.py:545\u001b[0m, in \u001b[0;36minv\u001b[1;34m(a)\u001b[0m\n\u001b[0;32m    543\u001b[0m signature \u001b[38;5;241m=\u001b[39m \u001b[38;5;124m'\u001b[39m\u001b[38;5;124mD->D\u001b[39m\u001b[38;5;124m'\u001b[39m \u001b[38;5;28;01mif\u001b[39;00m isComplexType(t) \u001b[38;5;28;01melse\u001b[39;00m \u001b[38;5;124m'\u001b[39m\u001b[38;5;124md->d\u001b[39m\u001b[38;5;124m'\u001b[39m\n\u001b[0;32m    544\u001b[0m extobj \u001b[38;5;241m=\u001b[39m get_linalg_error_extobj(_raise_linalgerror_singular)\n\u001b[1;32m--> 545\u001b[0m ainv \u001b[38;5;241m=\u001b[39m \u001b[43m_umath_linalg\u001b[49m\u001b[38;5;241;43m.\u001b[39;49m\u001b[43minv\u001b[49m\u001b[43m(\u001b[49m\u001b[43ma\u001b[49m\u001b[43m,\u001b[49m\u001b[43m \u001b[49m\u001b[43msignature\u001b[49m\u001b[38;5;241;43m=\u001b[39;49m\u001b[43msignature\u001b[49m\u001b[43m,\u001b[49m\u001b[43m \u001b[49m\u001b[43mextobj\u001b[49m\u001b[38;5;241;43m=\u001b[39;49m\u001b[43mextobj\u001b[49m\u001b[43m)\u001b[49m\n\u001b[0;32m    546\u001b[0m \u001b[38;5;28;01mreturn\u001b[39;00m wrap(ainv\u001b[38;5;241m.\u001b[39mastype(result_t, copy\u001b[38;5;241m=\u001b[39m\u001b[38;5;28;01mFalse\u001b[39;00m))\n",
      "\u001b[1;31mKeyboardInterrupt\u001b[0m: "
     ]
    }
   ],
   "source": [
    "z=[10**(-14),10**(-13),10**(-12),10**(-11),10**(-10), 10**(-9),10**(-8),10**(-7),10**(-6),10**(-5),10**(-4)]\n",
    "error=[]\n",
    "for R in z:\n",
    "    print('R=',R)\n",
    "    MIS=np.zeros(10)\n",
    "    for a in range(10):\n",
    "        P=np.random.normal(0,1,size=(aug,len(trainx),3072))\n",
    "        temp2=trainx+delta*P\n",
    "        temp2=np.array([temp2]).reshape(aug*len(trainx), 3072)\n",
    "    \n",
    "        train = temp2 #augmentation training set\n",
    "        err=np.zeros(10)\n",
    "        for j in range(10):\n",
    "            \n",
    "            N=np.random.normal(0,1,size=(len(testx),3072))\n",
    "            test=testx+delta*N\n",
    "            Ytrain=np.tile(trainy,(aug,1))\n",
    "            #print(Ytrain.shape)\n",
    "            b=Ker(test,train)\n",
    "            k1=Ker(train,train)\n",
    "            n=len(testy)\n",
    "            m=len(train)\n",
    "            I2=np.identity(m)\n",
    "        \n",
    "            k2=np.matrix(k1)+m*R*I2\n",
    "\n",
    "\n",
    "\n",
    "            k_inv=np.linalg.inv(k2)\n",
    "\n",
    "\n",
    "            Y=Ytrain\n",
    "            temp1=np.matmul(b,k_inv)\n",
    "            temp2=np.matmul(temp1,Y)\n",
    "\n",
    "            y_pred1=temp2\n",
    "            y_pred2=np.ravel(y_pred1)\n",
    "            te = np.where(y_pred2<0, -np.ones_like(y_pred2), np.ones_like(y_pred2))\n",
    "            mis=[]\n",
    "            for i in range(len(testy)):\n",
    "                if np.sign(temp2[i])!=np.sign(testy[i]):\n",
    "                    mis.append(i)\n",
    "            err[j]=len(mis)/n\n",
    "        #print(err)\n",
    "        print(np.max(err))\n",
    "        MIS[a]=np.max(err)\n",
    "    error.append(np.mean(MIS))"
   ]
  },
  {
   "cell_type": "code",
   "execution_count": null,
   "id": "89c5b763",
   "metadata": {},
   "outputs": [],
   "source": [
    "#no augmented error\n",
    "\n",
    "error2=[]\n",
    "\n",
    "for R in z:\n",
    "    MIS=np.zeros(10)\n",
    "    for a in range(10):\n",
    "        N=np.random.normal(0,1,size=(len(testx),3072))\n",
    "        test=testx+delta*N\n",
    "        B_1=Ker(test,trainx)\n",
    "        K_1=Ker(trainx,trainx)\n",
    "        M=len(trainx)\n",
    "        I_2=np.identity(M)\n",
    "\n",
    "        K_2=np.matrix(K_1)+M*R*I_2\n",
    "\n",
    "\n",
    "\n",
    "        Kinv=np.linalg.inv(K_2)\n",
    "\n",
    "\n",
    "        Y=trainy  #shape(len(trainy),1)\n",
    "        temp1=np.matmul(B_1,Kinv)\n",
    "        temp2=np.matmul(temp1,Y)\n",
    "\n",
    "   \n",
    "        y_pred1=temp2\n",
    "        y_pred2=np.ravel(y_pred1)\n",
    "        te = np.where(y_pred2<0, -np.ones_like(y_pred2), np.ones_like(y_pred2))\n",
    "        mis=[]\n",
    "        for i in range(len(testy):\n",
    "            if np.sign(temp2[i])!=np.sign(testyi]):\n",
    "                mis.append(i)\n",
    "        MIS[a]=len(mis)/n\n",
    "    print(MIS)\n",
    "    print(np.max(MIS))\n",
    "    error2.append(np.max(MIS))"
   ]
  },
  {
   "cell_type": "code",
   "execution_count": null,
   "id": "80befa91",
   "metadata": {},
   "outputs": [],
   "source": [
    "plt.semilogx(z,error,label='Aug-')\n",
    "plt.semilogx(z,error2,label='NoAug-')\n",
    "plt.legend()\n",
    "plt.show()"
   ]
  }
 ],
 "metadata": {
  "kernelspec": {
   "display_name": "tfgpu",
   "language": "python",
   "name": "tfgpu"
  },
  "language_info": {
   "codemirror_mode": {
    "name": "ipython",
    "version": 3
   },
   "file_extension": ".py",
   "mimetype": "text/x-python",
   "name": "python",
   "nbconvert_exporter": "python",
   "pygments_lexer": "ipython3",
   "version": "3.9.15"
  }
 },
 "nbformat": 4,
 "nbformat_minor": 5
}
