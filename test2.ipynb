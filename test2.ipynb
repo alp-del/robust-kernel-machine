{
 "cells": [
  {
   "cell_type": "code",
   "execution_count": 2,
   "id": "10ee17c8",
   "metadata": {},
   "outputs": [],
   "source": [
    "import numpy as np\n",
    "import math\n",
    "\n",
    "n=20 \n",
    "d=10 \n",
    "m=5000\n",
    "kap=3\n",
    "delta=0.001\n",
    "R=0.000000001\n",
    "a=10"
   ]
  },
  {
   "cell_type": "code",
   "execution_count": null,
   "id": "2fd106d3",
   "metadata": {},
   "outputs": [],
   "source": []
  },
  {
   "cell_type": "code",
   "execution_count": 3,
   "id": "3def11a7",
   "metadata": {},
   "outputs": [],
   "source": [
    "def K(x,y):\n",
    "    return np.dot(x,y)+(np.dot(x,y))**2\n",
    "def f_star(x):\n",
    "    return 0"
   ]
  },
  {
   "cell_type": "code",
   "execution_count": 8,
   "id": "bc8bb9d8",
   "metadata": {},
   "outputs": [],
   "source": [
    "mean=np.zeros(d)\n",
    "l=np.zeros(d)\n",
    "for i in range(d):\n",
    "    l[i]=(1-(i/d)**kap)**(1/kap)\n",
    "sigma=np.diag(l)\n",
    "X=np.random.multivariate_normal(mean,sigma,n)\n",
    "y=[f_star(x) for x in X]\n",
    "n1=np.random.normal(0,1,n)\n",
    "y1=np.add(y,n1) \n",
    "I1=np.identity(d)\n",
    "\n",
    "xtemp=X\n",
    "ytemp=y1\n",
    "\n",
    "for i in range(a):\n",
    "    p=np.random.multivariate_normal(mean, I1,n)\n",
    "    p=np.multiply(p,delta)\n",
    "    X1=np.add(X,p)\n",
    "        \n",
    "    xtemp=np.concatenate((xtemp,X1))\n",
    "    ytemp=np.concatenate((ytemp,y1))\n",
    "    \n",
    "Xtrain=xtemp\n",
    "Ytrain=ytemp"
   ]
  },
  {
   "cell_type": "code",
   "execution_count": 9,
   "id": "7d0a2b09",
   "metadata": {},
   "outputs": [
    {
     "name": "stdout",
     "output_type": "stream",
     "text": [
      "(220, 10)\n"
     ]
    }
   ],
   "source": [
    "print(xtemp.shape)"
   ]
  },
  {
   "cell_type": "code",
   "execution_count": 10,
   "id": "4e22588e",
   "metadata": {},
   "outputs": [
    {
     "name": "stdout",
     "output_type": "stream",
     "text": [
      "(220,)\n"
     ]
    }
   ],
   "source": [
    "print(ytemp.shape)"
   ]
  },
  {
   "cell_type": "code",
   "execution_count": 11,
   "id": "13922abc",
   "metadata": {},
   "outputs": [
    {
     "name": "stdout",
     "output_type": "stream",
     "text": [
      "(220, 10)\n"
     ]
    }
   ],
   "source": [
    "print(Xtrain.shape)"
   ]
  },
  {
   "cell_type": "code",
   "execution_count": 12,
   "id": "1d217fd7",
   "metadata": {},
   "outputs": [
    {
     "name": "stdout",
     "output_type": "stream",
     "text": [
      "(220,)\n"
     ]
    }
   ],
   "source": [
    "print(Ytrain.shape)"
   ]
  },
  {
   "cell_type": "code",
   "execution_count": null,
   "id": "4f243323",
   "metadata": {},
   "outputs": [],
   "source": []
  }
 ],
 "metadata": {
  "kernelspec": {
   "display_name": "Python 3 (ipykernel)",
   "language": "python",
   "name": "python3"
  },
  "language_info": {
   "codemirror_mode": {
    "name": "ipython",
    "version": 3
   },
   "file_extension": ".py",
   "mimetype": "text/x-python",
   "name": "python",
   "nbconvert_exporter": "python",
   "pygments_lexer": "ipython3",
   "version": "3.9.12"
  }
 },
 "nbformat": 4,
 "nbformat_minor": 5
}
