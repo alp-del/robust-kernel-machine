{
 "cells": [
  {
   "cell_type": "code",
   "execution_count": 1,
   "id": "4553116a",
   "metadata": {},
   "outputs": [
    {
     "name": "stdout",
     "output_type": "stream",
     "text": [
      "Load MNIST dataset.\n",
      "60000 train samples\n",
      "10000 test samples\n",
      "Load MNIST dataset.\n",
      "60000 train samples\n",
      "10000 test samples\n"
     ]
    }
   ],
   "source": [
    "import numpy as np\n",
    "import EigenPro2.mnist as mnist\n",
    "import math\n",
    "import matplotlib.pyplot as plt\n",
    "import random\n",
    "import time\n",
    "import math\n",
    "import gc\n",
    "gc.collect\n",
    "(train_x, train_y), (test_x, test_y) = mnist.load()\n",
    "aug=40\n",
    "delta=0.01 #noise level\n",
    "\n",
    "\n",
    "def K(x,y):\n",
    "    return np.dot(x,y)+1/20*(np.dot(x,y))**2"
   ]
  },
  {
   "cell_type": "code",
   "execution_count": 2,
   "id": "cc18edfc",
   "metadata": {},
   "outputs": [],
   "source": [
    "def Ker(X,Y):\n",
    "    x=np.sum(np.square(X),axis=1)\n",
    "    y=np.sum(np.square(Y),axis=1)\n",
    "    x=x.reshape(len(x),1)\n",
    "    y=y.reshape(len(y),1)\n",
    "    temp1=x.repeat(len(y),axis=1)\n",
    "    temp2=y.repeat(len(x),axis=1)\n",
    "    squ=temp1+np.transpose(temp2)-2*np.matmul(X,np.transpose(Y))\n",
    "    mat=np.exp(-squ/10)\n",
    "    return mat"
   ]
  },
  {
   "cell_type": "code",
   "execution_count": 3,
   "id": "15045ed0",
   "metadata": {},
   "outputs": [
    {
     "name": "stdout",
     "output_type": "stream",
     "text": [
      "Adding augmentation= 0.3543224334716797\n"
     ]
    }
   ],
   "source": [
    "y=7\n",
    "x=2\n",
    "time1=time.time()\n",
    "A = [train_x[train_y==i,:] for i in range(9)]\n",
    "\n",
    "temp = np.concatenate((A[x], A[y]), axis=0)\n",
    "rdn_indexes=np.random.randint(len(temp),size=400)\n",
    "\n",
    "train1=temp[rdn_indexes,:] #no augmentation training set\n",
    "y1=np.ones(len(A[x]))\n",
    "y2=np.ones(len(A[y]))*(-1)\n",
    "\n",
    "ytemp=np.concatenate((y1,y2))\n",
    "ytrain1=ytemp[rdn_indexes]\n",
    "    \n",
    "    \n",
    "\n",
    "    \n",
    "P=np.random.normal(0,1,size=(aug,len(train1),784))\n",
    "temp2=train1+delta*P\n",
    "temp2=np.array([temp2]).reshape(aug*len(train1), 784)\n",
    "    \n",
    "train = temp2 #augmentation training set\n",
    " \n",
    "Ytrain=np.tile(ytrain1,aug)\n",
    "\n",
    "  \n",
    "    \n",
    "B= [test_x[test_y==i,:] for i in range(9)]\n",
    "\n",
    "test = np.concatenate((B[x],B[y]),axis=0)\n",
    "\n",
    "n=len(test)\n",
    "y1=np.ones(len(B[x]))\n",
    "y2=np.ones(len(B[y]))*(-1)\n",
    "Ytest=np.concatenate((y1,y2))\n",
    "time2=time.time()\n",
    "print('Adding augmentation=',time2-time1)"
   ]
  },
  {
   "cell_type": "code",
   "execution_count": 4,
   "id": "61ced22d",
   "metadata": {},
   "outputs": [],
   "source": [
    "b=Ker(test,train)\n",
    "k1=Ker(train,train)"
   ]
  },
  {
   "cell_type": "code",
   "execution_count": 5,
   "id": "6ce90ce6",
   "metadata": {},
   "outputs": [
    {
     "name": "stdout",
     "output_type": "stream",
     "text": [
      "R= 0\n",
      "44\n",
      "R= 1e-09\n",
      "44\n",
      "R= 1e-08\n",
      "44\n",
      "R= 1e-05\n",
      "44\n",
      "R= 0.0001\n",
      "44\n",
      "R= 0.001\n",
      "44\n",
      "R= 0.01\n",
      "44\n",
      "R= 0.1\n",
      "44\n",
      "R= 1\n",
      "44\n",
      "R= 10\n",
      "46\n"
     ]
    }
   ],
   "source": [
    "m=len(train)\n",
    "I2=np.identity(m)\n",
    "\n",
    "z=[0,10**(-9),10**(-8), 10**(-5),10**(-4),10**(-3),10**(-2),10**(-1),10**(0),10]\n",
    "for R in z:\n",
    "    print('R=',R)\n",
    "    k2=np.matrix(k1)+R*I2\n",
    "\n",
    "\n",
    "\n",
    "    k_inv=np.linalg.inv(k2)\n",
    "\n",
    "\n",
    "    Y=Ytrain.reshape(len(Ytrain),1)\n",
    "    temp1=np.matmul(b,k_inv)\n",
    "    temp2=np.matmul(temp1,Y)\n",
    "\n",
    "    y_bar=np.average(Ytest)\n",
    "\n",
    "    ybar=np.multiply(np.ones(n),y_bar)\n",
    "    num=0\n",
    "    den=0\n",
    "    y_pred1=temp2\n",
    "    y_pred2=np.ravel(y_pred1)\n",
    "    te = np.where(y_pred2<0, -np.ones_like(y_pred2), np.ones_like(y_pred2))\n",
    "    mis=[]\n",
    "    for i in range(len(Ytest)):\n",
    "        if np.sign(temp2[i])!=np.sign(Ytest[i]):\n",
    "            mis.append(i)\n",
    "        \n",
    "    #num = np.linalg.norm(te - Ytest)**2\n",
    "    #den = np.linalg.norm(ybar-Ytest)**2\n",
    "    #errors=(num/den)\n",
    "    #print('misclassification=',mis)\n",
    "    print(len(mis))\n"
   ]
  },
  {
   "cell_type": "code",
   "execution_count": 6,
   "id": "a8e98ce5",
   "metadata": {},
   "outputs": [
    {
     "name": "stdout",
     "output_type": "stream",
     "text": [
      "R= 1e-09\n",
      "44\n",
      "R= 1e-08\n",
      "44\n",
      "R= 1e-05\n",
      "44\n",
      "R= 0.0001\n",
      "44\n",
      "R= 0.001\n",
      "44\n",
      "R= 0.01\n",
      "44\n",
      "R= 0.1\n",
      "45\n",
      "R= 1\n",
      "49\n",
      "R= 10\n",
      "65\n"
     ]
    }
   ],
   "source": [
    "B_1=Ker(test,train1)\n",
    "K_1=Ker(train1,train1)\n",
    "M=len(train1)\n",
    "I_2=np.identity(M)\n",
    "\n",
    "z=[10**(-9),10**(-8), 10**(-5),10**(-4),10**(-3),10**(-2),10**(-1),10**(0),10]\n",
    "for R in z:\n",
    "    print('R=',R)\n",
    "    K_2=np.matrix(K_1)+R*I_2\n",
    "\n",
    "\n",
    "\n",
    "    Kinv=np.linalg.inv(K_2)\n",
    "\n",
    "\n",
    "    Y=ytrain1.reshape(len(ytrain1),1)\n",
    "    temp1=np.matmul(B_1,Kinv)\n",
    "    temp2=np.matmul(temp1,Y)\n",
    "\n",
    "    y_bar=np.average(Ytest)\n",
    "\n",
    "    ybar=np.multiply(np.ones(n),y_bar)\n",
    "    num=0\n",
    "    den=0\n",
    "    y_pred1=temp2\n",
    "    y_pred2=np.ravel(y_pred1)\n",
    "    te = np.where(y_pred2<0, -np.ones_like(y_pred2), np.ones_like(y_pred2))\n",
    "    mis=[]\n",
    "    for i in range(len(Ytest)):\n",
    "        if np.sign(temp2[i])!=np.sign(Ytest[i]):\n",
    "            mis.append(i)\n",
    "        \n",
    "    #num = np.linalg.norm(te - Ytest)**2\n",
    "    #den = np.linalg.norm(ybar-Ytest)**2\n",
    "    #errors=(num/den)\n",
    "    #print('misclassification=',mis)\n",
    "    print(len(mis))"
   ]
  },
  {
   "cell_type": "code",
   "execution_count": null,
   "id": "54730043",
   "metadata": {},
   "outputs": [],
   "source": []
  },
  {
   "cell_type": "code",
   "execution_count": null,
   "id": "e759dd7e",
   "metadata": {},
   "outputs": [],
   "source": []
  },
  {
   "cell_type": "code",
   "execution_count": null,
   "id": "8adf8a86",
   "metadata": {},
   "outputs": [],
   "source": []
  },
  {
   "cell_type": "code",
   "execution_count": null,
   "id": "5f72dbc6",
   "metadata": {},
   "outputs": [],
   "source": []
  },
  {
   "cell_type": "code",
   "execution_count": null,
   "id": "29948e29",
   "metadata": {},
   "outputs": [],
   "source": [
    "\n",
    "    \n",
    "    "
   ]
  }
 ],
 "metadata": {
  "kernelspec": {
   "display_name": "Python 3 (ipykernel)",
   "language": "python",
   "name": "python3"
  },
  "language_info": {
   "codemirror_mode": {
    "name": "ipython",
    "version": 3
   },
   "file_extension": ".py",
   "mimetype": "text/x-python",
   "name": "python",
   "nbconvert_exporter": "python",
   "pygments_lexer": "ipython3",
   "version": "3.9.15"
  }
 },
 "nbformat": 4,
 "nbformat_minor": 5
}
