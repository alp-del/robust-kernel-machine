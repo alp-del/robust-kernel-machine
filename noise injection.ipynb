{
 "cells": [
  {
   "cell_type": "code",
   "execution_count": 26,
   "id": "7ac6e753",
   "metadata": {},
   "outputs": [],
   "source": [
    "import numpy as np\n",
    "import math\n",
    "\n",
    "#n=20 \n",
    "#d=10 \n",
    "#m=5000\n",
    "kap=3\n",
    "delta=0.001\n",
    "R=0.000000001\n",
    "a=3"
   ]
  },
  {
   "cell_type": "code",
   "execution_count": null,
   "id": "de391a35",
   "metadata": {},
   "outputs": [],
   "source": []
  },
  {
   "cell_type": "code",
   "execution_count": 27,
   "id": "d264a140",
   "metadata": {},
   "outputs": [],
   "source": [
    "def K(x,y):\n",
    "    return np.dot(x,y)+(np.dot(x,y))**2\n",
    "def f_star(x):\n",
    "    return 0"
   ]
  },
  {
   "cell_type": "code",
   "execution_count": 35,
   "id": "33f0c27f",
   "metadata": {},
   "outputs": [],
   "source": [
    "def noaug(m,n,d):\n",
    "    mean=np.zeros(d)\n",
    "    l=np.zeros(d)\n",
    "    for i in range(d):\n",
    "        l[i]=(1-(i/d)**kap)**(1/kap)\n",
    "    sigma=np.diag(l)\n",
    "    X=np.random.multivariate_normal(mean, sigma,n)\n",
    "    Xtrain=np.array(X)\n",
    "    y=[f_star(x) for x in X]\n",
    "    n1=np.random.normal(0,1,n)\n",
    "    Ytrain=np.add(y,n1)\n",
    "    X2=np.random.multivariate_normal(mean, sigma,m)\n",
    "    Xtest=np.array(X2)\n",
    "    y2=[f_star(x) for x in X2]\n",
    "    n2=np.random.normal(0,1,m)\n",
    "    Ytest=np.add(y2,n2)\n",
    "    N=n\n",
    "    b=np.zeros((m,N))\n",
    "    for i in range(m):\n",
    "        for j in range(N):\n",
    "            b[i][j]=K(Xtest[i],Xtrain[j])\n",
    "    b=np.matrix(b)\n",
    "    I=np.identity(n)\n",
    "    k1=np.zeros((n,n))\n",
    "    for i in range(n):\n",
    "        for j in range(n):\n",
    "            k1[i][j]=K(Xtrain[i],Xtrain[j])\n",
    "    k2=np.matrix(k1)+R*I\n",
    "    k_inv=np.linalg.inv(k2)\n",
    "    y=Ytrain\n",
    "    temp1=np.matmul(b,k_inv)\n",
    "    temp2=np.matmul(temp1,y)\n",
    "    \n",
    "    y_bar=np.average(Ytest)\n",
    "    ybar=np.multiply(np.ones(m),y_bar)\n",
    "    num=0\n",
    "    den=0\n",
    "    ypred=temp2\n",
    "    num=np.linalg.norm(ypred)**2\n",
    "    den=np.linalg.norm(Ytest-ybar)**2\n",
    "    error=num/den\n",
    "    return error\n",
    "    "
   ]
  },
  {
   "cell_type": "code",
   "execution_count": 36,
   "id": "8e7bf590",
   "metadata": {},
   "outputs": [
    {
     "name": "stdout",
     "output_type": "stream",
     "text": [
      "[0.86170352 0.62428554 4.33881807 2.98887053 0.6285105  1.43035706\n",
      " 1.09836656 0.688884   1.0372474  0.6809277  1.02888305 1.37648252\n",
      " 1.06566675 0.83813824 0.99093293 2.8018225  1.39741505 0.32103358\n",
      " 0.92899627 0.7253556 ]\n"
     ]
    }
   ],
   "source": [
    "error1=np.zeros(20)\n",
    "for i in range(20):\n",
    "    error1[i]=noaug(5000,20,10)\n",
    "print(error1)\n",
    "    "
   ]
  },
  {
   "cell_type": "code",
   "execution_count": 37,
   "id": "aaa4c8d9",
   "metadata": {},
   "outputs": [
    {
     "name": "stdout",
     "output_type": "stream",
     "text": [
      "1.2926348684718207\n"
     ]
    }
   ],
   "source": [
    "print(error1.mean())"
   ]
  },
  {
   "cell_type": "code",
   "execution_count": 28,
   "id": "e5b6119e",
   "metadata": {},
   "outputs": [],
   "source": [
    "def withaug(m,n,d):\n",
    "    mean=np.zeros(d)\n",
    "    l=np.zeros(d)\n",
    "    for i in range(d):\n",
    "        l[i]=(1-(i/d)**kap)**(1/kap)\n",
    "    sigma=np.diag(l)\n",
    "    X=np.random.multivariate_normal(mean,sigma,n)\n",
    "    y=[f_star(x) for x in X]\n",
    "    n1=np.random.normal(0,1,n)\n",
    "    y1=np.add(y,n1) \n",
    "    I1=np.identity(d)\n",
    "    \n",
    "    xtemp=X\n",
    "    ytemp=y1\n",
    "    \n",
    "    for i in range(a):\n",
    "        p=np.random.multivariate_normal(mean, I1,n)\n",
    "        p=np.multiply(p,delta)\n",
    "        X1=np.add(X,p)\n",
    "        \n",
    "        xtemp=np.concatenate((xtemp,X1))\n",
    "        ytemp=np.concatenate((ytemp,y1))\n",
    "\n",
    "\n",
    "    \n",
    "\n",
    "    Xtrain=xtemp\n",
    "    Ytrain=ytemp\n",
    "    \n",
    "    X2=np.random.multivariate_normal(mean,sigma,m)\n",
    "    Xtest=np.array(X2)\n",
    "    y2=[f_star(x) for x in X2]\n",
    "    n2=np.random.normal(0,1,m)\n",
    "    Ytest=np.add(y2,n2)\n",
    "    \n",
    "    N=n*(a+1)\n",
    "    b=np.zeros((m,N))\n",
    "    for i in range(m):\n",
    "        for j in range(N):\n",
    "            b[i][j]=K(Xtest[i],Xtrain[j])\n",
    "    b=np.matrix(b)\n",
    "    I2=np.identity(N)\n",
    "    k1=np.zeros((N,N))\n",
    "    for i in range(N):\n",
    "        for j in range(N):\n",
    "            k1[i][j]=K(Xtrain[i],Xtrain[j])\n",
    "    k2=np.matrix(k1)+R*I2\n",
    "    k_inv=np.linalg.inv(k2)\n",
    "    Y=Ytrain\n",
    "    temp1=np.matmul(b,k_inv)\n",
    "    temp2=np.matmul(temp1,Y)\n",
    "    \n",
    "    y_bar=np.average(Ytest)\n",
    "    ybar=np.multiply(np.ones(m),y_bar)\n",
    "    num=0\n",
    "    den=0\n",
    "    ypred=temp2\n",
    "    num=np.linalg.norm(ypred)**2\n",
    "    den=np.linalg.norm(Ytest-ybar)**2\n",
    "    error=num/den\n",
    "    return error\n",
    "    \n",
    "    "
   ]
  },
  {
   "cell_type": "code",
   "execution_count": 29,
   "id": "7d7ceb0e",
   "metadata": {},
   "outputs": [
    {
     "name": "stdout",
     "output_type": "stream",
     "text": [
      "[ 8.57105673 62.36597235  3.66257558  4.64082135 14.9842868   1.26202747\n",
      "  2.01916384  7.74345963  3.38593098  2.30569792  2.01471406 10.56491892\n",
      "  8.03554408  2.54304095  5.63860433  3.67504587 11.53574832  2.43502788\n",
      " 10.68946446  4.45905574]\n"
     ]
    }
   ],
   "source": [
    "error2=np.zeros(20)\n",
    "for i in range(20):\n",
    "    error2[i]=withaug(5000,20,10)\n",
    "print(error2)"
   ]
  },
  {
   "cell_type": "code",
   "execution_count": 30,
   "id": "76c6dd0d",
   "metadata": {},
   "outputs": [
    {
     "name": "stdout",
     "output_type": "stream",
     "text": [
      "8.626607863123677\n"
     ]
    }
   ],
   "source": [
    "print(error2.mean())"
   ]
  },
  {
   "cell_type": "code",
   "execution_count": null,
   "id": "6d8a6752",
   "metadata": {},
   "outputs": [],
   "source": []
  },
  {
   "cell_type": "code",
   "execution_count": 31,
   "id": "50aa7bef",
   "metadata": {},
   "outputs": [],
   "source": [
    "    #p1=np.random.multivariate_normal(mean,I1,n)\n",
    "    #p1=np.multiply(p1,delta)\n",
    "    #X1=np.add(X,p1)\n",
    "    #temp1=np.concatenate((X,X1))\n",
    "    #ytemp1=np.concatenate((y1,y1))\n",
    "    \n",
    "    #p2=np.random.multivariate_normal(mean,I1,n)\n",
    "   # p2=np.multiply(p2,delta)\n",
    "    #X2=np.add(X,p2)\n",
    "    #temp2=np.concatenate((temp1,X2))\n",
    "    #ytemp2=np.concatenate((ytemp1,y1))\n",
    "    \n",
    "    #p3=np.random.multivariate_normal(mean,I1,n)\n",
    "   # p3=np.multiply(p3,delta)\n",
    "    #X3=np.add(X,p3)\n",
    "   # temp3=np.concatenate((temp2,X3))\n",
    "   # ytemp3=np.concatenate((ytemp2,y1))"
   ]
  }
 ],
 "metadata": {
  "kernelspec": {
   "display_name": "Python 3 (ipykernel)",
   "language": "python",
   "name": "python3"
  },
  "language_info": {
   "codemirror_mode": {
    "name": "ipython",
    "version": 3
   },
   "file_extension": ".py",
   "mimetype": "text/x-python",
   "name": "python",
   "nbconvert_exporter": "python",
   "pygments_lexer": "ipython3",
   "version": "3.9.12"
  }
 },
 "nbformat": 4,
 "nbformat_minor": 5
}
