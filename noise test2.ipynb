{
 "cells": [
  {
   "cell_type": "code",
   "execution_count": 43,
   "id": "5d1d9134",
   "metadata": {},
   "outputs": [],
   "source": [
    "import numpy as np\n",
    "import math\n",
    "\n",
    "#n=4\n",
    "#d=2 \n",
    "#m=5000\n",
    "kap=3\n",
    "delta=0.001\n",
    "R=0.000000001\n",
    "a=3"
   ]
  },
  {
   "cell_type": "code",
   "execution_count": 44,
   "id": "dd4735d3",
   "metadata": {},
   "outputs": [],
   "source": [
    "def K(x,y):\n",
    "    return np.dot(x,y)+(np.dot(x,y))**2\n",
    "def f_star(x):\n",
    "    return 0"
   ]
  },
  {
   "cell_type": "code",
   "execution_count": 45,
   "id": "3df02033",
   "metadata": {},
   "outputs": [],
   "source": [
    "def withaug(m,n,d):\n",
    "    mean=np.zeros(d)\n",
    "    l=np.zeros(d)\n",
    "    for i in range(d):\n",
    "        l[i]=(1-(i/d)**kap)**(1/kap)\n",
    "    sigma=np.diag(l)\n",
    "    X=np.random.multivariate_normal(mean,sigma,n)\n",
    "    y=[f_star(x) for x in X]\n",
    "    n1=np.random.normal(0,1,n)\n",
    "    y1=y+n1 \n",
    "    I1=np.identity(d)\n",
    "\n",
    "    \n",
    "    P=np.random.normal(0,1,size=(a,n,d))\n",
    "    Xtrain=X+delta*P\n",
    "    Xtrain=Xtrain.reshape(a*n,d)\n",
    "\n",
    "    Ytemp=np.vstack([y1]*a)\n",
    "    Ytrain=Ytemp.flatten()\n",
    "    \n",
    "    X2=np.random.multivariate_normal(mean,sigma,m)\n",
    "    Xtest=np.array(X2)\n",
    "    y2=[f_star(x) for x in X2]\n",
    "    n2=np.random.normal(0,1,m)\n",
    "    Ytest=y2+n2\n",
    "    \n",
    "    N=n*(a)\n",
    "    b=np.zeros((m,N))\n",
    "    for i in range(m):\n",
    "        for j in range(N):\n",
    "            b[i][j]=K(Xtest[i],Xtrain[j])\n",
    "    b=np.matrix(b)\n",
    "    I2=np.identity(N)\n",
    "    k1=np.zeros((N,N))\n",
    "    for i in range(N):\n",
    "        for j in range(N):\n",
    "            k1[i][j]=K(Xtrain[i],Xtrain[j])\n",
    "    k2=np.matrix(k1)+R*I2\n",
    "    k_inv=np.linalg.inv(k2)\n",
    "    Y=Ytrain\n",
    "    temp1=np.matmul(b,k_inv)\n",
    "    temp2=np.matmul(temp1,Y)\n",
    "    \n",
    "    y_bar=np.average(Ytest)\n",
    "    ybar=np.multiply(np.ones(m),y_bar)\n",
    "    num=0\n",
    "    den=0\n",
    "    ypred=temp2\n",
    "    num=np.linalg.norm(ypred)**2\n",
    "    den=np.linalg.norm(Ytest-ybar)**2\n",
    "    error=num/den\n",
    "    return error\n",
    "    \n",
    "    "
   ]
  },
  {
   "cell_type": "code",
   "execution_count": 46,
   "id": "5773c775",
   "metadata": {},
   "outputs": [
    {
     "name": "stdout",
     "output_type": "stream",
     "text": [
      "[ 2.15449081  4.5004189  19.33951278 17.84795447 21.44045915  4.53239091\n",
      "  7.00090921 24.77563232  8.59596563 38.74251756 17.58565185  5.07126488\n",
      " 32.58961719 26.01221593 12.09961489 20.67817316 10.17429137  8.25939313\n",
      "  8.74647476 46.90539072]\n"
     ]
    }
   ],
   "source": [
    "error2=np.zeros(20)\n",
    "for i in range(20):\n",
    "    error2[i]=withaug(5000,20,10)\n",
    "print(error2)"
   ]
  },
  {
   "cell_type": "code",
   "execution_count": 47,
   "id": "0aee9eab",
   "metadata": {},
   "outputs": [
    {
     "name": "stdout",
     "output_type": "stream",
     "text": [
      "16.85261698217997\n"
     ]
    }
   ],
   "source": [
    "print(error2.mean())"
   ]
  }
 ],
 "metadata": {
  "kernelspec": {
   "display_name": "Python 3.9 (tensorflow)",
   "language": "python",
   "name": "tensorflow"
  },
  "language_info": {
   "codemirror_mode": {
    "name": "ipython",
    "version": 3
   },
   "file_extension": ".py",
   "mimetype": "text/x-python",
   "name": "python",
   "nbconvert_exporter": "python",
   "pygments_lexer": "ipython3",
   "version": "3.9.13"
  }
 },
 "nbformat": 4,
 "nbformat_minor": 5
}
